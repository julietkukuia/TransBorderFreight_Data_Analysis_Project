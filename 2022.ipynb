{
 "cells": [
  {
   "cell_type": "code",
   "execution_count": 1,
   "id": "bab30a96-d96a-4a68-b23b-0610d752d718",
   "metadata": {},
   "outputs": [],
   "source": [
    "# import the libraries\n",
    "import numpy as np\n",
    "import pandas as pd\n",
    "import matplotlib.pyplot as plt\n",
    "import seaborn as sns\n",
    "import os\n",
    "import warnings\n",
    "warnings.filterwarnings('ignore')"
   ]
  },
  {
   "cell_type": "code",
   "execution_count": 3,
   "id": "444e0c07-aecb-4233-bbfe-e79c4931a926",
   "metadata": {},
   "outputs": [
    {
     "name": "stdout",
     "output_type": "stream",
     "text": [
      "🗂 Found 73 CSV files.\n",
      "✅ Loaded: dot1_0122.csv\n",
      "✅ Loaded: dot1_0222.csv\n",
      "✅ Loaded: dot1_0322.csv\n",
      "✅ Loaded: dot1_0422.csv\n",
      "✅ Loaded: dot1_0522.csv\n",
      "✅ Loaded: dot1_0622.csv\n",
      "✅ Loaded: dot1_0722.csv\n",
      "✅ Loaded: dot1_0822.csv\n",
      "✅ Loaded: dot1_0922.csv\n",
      "✅ Loaded: dot1_1022.csv\n",
      "✅ Loaded: dot1_1122.csv\n",
      "✅ Loaded: dot1_1222.csv\n",
      "✅ Loaded: dot1_2022.csv\n",
      "✅ Loaded: dot1_ytd_0122.csv\n",
      "✅ Loaded: dot1_ytd_0222.csv\n",
      "✅ Loaded: dot1_ytd_0322.csv\n",
      "✅ Loaded: dot1_ytd_0422.csv\n",
      "✅ Loaded: dot1_ytd_0522.csv\n",
      "✅ Loaded: dot1_ytd_0622.csv\n",
      "✅ Loaded: dot1_ytd_0722.csv\n",
      "✅ Loaded: dot1_ytd_0822.csv\n",
      "✅ Loaded: dot1_ytd_0922.csv\n",
      "✅ Loaded: dot1_ytd_1022.csv\n",
      "✅ Loaded: dot1_ytd_1122.csv\n",
      "✅ Loaded: dot1_ytd_1222.csv\n",
      "✅ Loaded: dot2_0122.csv\n",
      "✅ Loaded: dot2_0222.csv\n",
      "✅ Loaded: dot2_0322.csv\n",
      "✅ Loaded: dot2_0422.csv\n",
      "✅ Loaded: dot2_0522.csv\n",
      "✅ Loaded: dot2_0622.csv\n",
      "✅ Loaded: dot2_0722.csv\n",
      "✅ Loaded: dot2_0822.csv\n",
      "✅ Loaded: dot2_0922.csv\n",
      "✅ Loaded: dot2_1022.csv\n",
      "✅ Loaded: dot2_1122.csv\n",
      "✅ Loaded: dot2_1222.csv\n",
      "✅ Loaded: dot2_2022.csv\n",
      "✅ Loaded: dot2_ytd_0122.csv\n",
      "✅ Loaded: dot2_ytd_0222.csv\n",
      "✅ Loaded: dot2_ytd_0322.csv\n",
      "✅ Loaded: dot2_ytd_0622.csv\n",
      "✅ Loaded: dot2_ytd_0722.csv\n",
      "✅ Loaded: dot2_ytd_0822.csv\n",
      "✅ Loaded: dot2_ytd_0922.csv\n",
      "✅ Loaded: dot2_ytd_1022.csv\n",
      "✅ Loaded: dot2_ytd_1122.csv\n",
      "✅ Loaded: dot2_ytd_1222.csv\n",
      "✅ Loaded: dot3_0122.csv\n",
      "✅ Loaded: dot3_0222.csv\n",
      "✅ Loaded: dot3_0322.csv\n",
      "✅ Loaded: dot3_0422.csv\n",
      "✅ Loaded: dot3_0522.csv\n",
      "✅ Loaded: dot3_0622.csv\n",
      "✅ Loaded: dot3_0722.csv\n",
      "✅ Loaded: dot3_0822.csv\n",
      "✅ Loaded: dot3_0922.csv\n",
      "✅ Loaded: dot3_1022.csv\n",
      "✅ Loaded: dot3_1122.csv\n",
      "✅ Loaded: dot3_1222.csv\n",
      "✅ Loaded: dot3_2022.csv\n",
      "✅ Loaded: dot3_ytd_0122.csv\n",
      "✅ Loaded: dot3_ytd_0222.csv\n",
      "✅ Loaded: dot3_ytd_0322.csv\n",
      "✅ Loaded: dot3_ytd_0422.csv\n",
      "✅ Loaded: dot3_ytd_0522.csv\n",
      "✅ Loaded: dot3_ytd_0622.csv\n",
      "✅ Loaded: dot3_ytd_0722.csv\n",
      "✅ Loaded: dot3_ytd_0822.csv\n",
      "✅ Loaded: dot3_ytd_0922.csv\n",
      "✅ Loaded: dot3_ytd_1022.csv\n",
      "✅ Loaded: dot3_ytd_1122.csv\n",
      "✅ Loaded: dot3_ytd_1222.csv\n",
      "✅ Successfully merged 73 DataFrames.\n",
      "📁 Merged CSV saved to: C:\\Users\\Dell\\OneDrive\\Desktop\\Project 1\\2022\\2022_merged_freight_data.csv\n"
     ]
    }
   ],
   "source": [
    "# 🔹 1. Define your folder path (use raw string to avoid Windows escape errors)\n",
    "csv_dir = r\"C:\\Users\\Dell\\OneDrive\\Desktop\\Project 1\\2022\"\n",
    "\n",
    "# 🔹 2. Get all .csv files in the folder\n",
    "csv_files = [file for file in os.listdir(csv_dir) if file.endswith(\".csv\")]\n",
    "print(f\"🗂 Found {len(csv_files)} CSV files.\")\n",
    "\n",
    "# 🔹 3. Create a list to hold individual DataFrames\n",
    "dataframes = []\n",
    "\n",
    "# 🔹 4. Loop through files, read them, and append to the list\n",
    "for file in csv_files:\n",
    "    file_path = os.path.join(csv_dir, file)\n",
    "    \n",
    "    try:\n",
    "        df = pd.read_csv(file_path)\n",
    "        df['source_file'] = file  # Optional: Track which file each row came from\n",
    "        dataframes.append(df)\n",
    "        print(f\"✅ Loaded: {file}\")\n",
    "    except Exception as e:\n",
    "        print(f\"⚠️ Could not read {file}: {e}\")\n",
    "\n",
    "# 🔹 5. Concatenate all loaded DataFrames\n",
    "if dataframes:\n",
    "    merged_df = pd.concat(dataframes, ignore_index=True)\n",
    "    print(f\"✅ Successfully merged {len(dataframes)} DataFrames.\")\n",
    "else:\n",
    "    print(\"❌ No DataFrames loaded. Check file formats or folder path.\")\n",
    "\n",
    "# 🔹 6. (Optional) Preview and save the merged result\n",
    "merged_df.head()  # Preview first 5 rows\n",
    "\n",
    "# 🔹 7. Save to disk\n",
    "output_path = os.path.join(csv_dir, \"2022_merged_freight_data.csv\")\n",
    "merged_df.to_csv(output_path, index=False)\n",
    "print(f\"📁 Merged CSV saved to: {output_path}\")\n"
   ]
  },
  {
   "cell_type": "code",
   "execution_count": 7,
   "id": "ed64001a-95cb-4023-918b-3a4236dbcc85",
   "metadata": {},
   "outputs": [
    {
     "data": {
      "text/html": [
       "<div>\n",
       "<style scoped>\n",
       "    .dataframe tbody tr th:only-of-type {\n",
       "        vertical-align: middle;\n",
       "    }\n",
       "\n",
       "    .dataframe tbody tr th {\n",
       "        vertical-align: top;\n",
       "    }\n",
       "\n",
       "    .dataframe thead th {\n",
       "        text-align: right;\n",
       "    }\n",
       "</style>\n",
       "<table border=\"1\" class=\"dataframe\">\n",
       "  <thead>\n",
       "    <tr style=\"text-align: right;\">\n",
       "      <th></th>\n",
       "      <th>TRDTYPE</th>\n",
       "      <th>USASTATE</th>\n",
       "      <th>DEPE</th>\n",
       "      <th>DISAGMOT</th>\n",
       "      <th>MEXSTATE</th>\n",
       "      <th>CANPROV</th>\n",
       "      <th>COUNTRY</th>\n",
       "      <th>VALUE</th>\n",
       "      <th>SHIPWT</th>\n",
       "      <th>FREIGHT_CHARGES</th>\n",
       "      <th>DF</th>\n",
       "      <th>CONTCODE</th>\n",
       "      <th>MONTH</th>\n",
       "      <th>YEAR</th>\n",
       "      <th>source_file</th>\n",
       "      <th>COMMODITY2</th>\n",
       "    </tr>\n",
       "  </thead>\n",
       "  <tbody>\n",
       "    <tr>\n",
       "      <th>0</th>\n",
       "      <td>1</td>\n",
       "      <td>AK</td>\n",
       "      <td>0901</td>\n",
       "      <td>5</td>\n",
       "      <td>NaN</td>\n",
       "      <td>XO</td>\n",
       "      <td>1220</td>\n",
       "      <td>7042</td>\n",
       "      <td>0</td>\n",
       "      <td>137</td>\n",
       "      <td>1.0</td>\n",
       "      <td>X</td>\n",
       "      <td>1.0</td>\n",
       "      <td>2022.0</td>\n",
       "      <td>dot1_0122.csv</td>\n",
       "      <td>NaN</td>\n",
       "    </tr>\n",
       "    <tr>\n",
       "      <th>1</th>\n",
       "      <td>1</td>\n",
       "      <td>AK</td>\n",
       "      <td>20XX</td>\n",
       "      <td>3</td>\n",
       "      <td>NaN</td>\n",
       "      <td>XA</td>\n",
       "      <td>1220</td>\n",
       "      <td>117977</td>\n",
       "      <td>485</td>\n",
       "      <td>2181</td>\n",
       "      <td>1.0</td>\n",
       "      <td>X</td>\n",
       "      <td>1.0</td>\n",
       "      <td>2022.0</td>\n",
       "      <td>dot1_0122.csv</td>\n",
       "      <td>NaN</td>\n",
       "    </tr>\n",
       "    <tr>\n",
       "      <th>2</th>\n",
       "      <td>1</td>\n",
       "      <td>AK</td>\n",
       "      <td>20XX</td>\n",
       "      <td>3</td>\n",
       "      <td>NaN</td>\n",
       "      <td>XC</td>\n",
       "      <td>1220</td>\n",
       "      <td>105057</td>\n",
       "      <td>22924</td>\n",
       "      <td>8899</td>\n",
       "      <td>1.0</td>\n",
       "      <td>X</td>\n",
       "      <td>1.0</td>\n",
       "      <td>2022.0</td>\n",
       "      <td>dot1_0122.csv</td>\n",
       "      <td>NaN</td>\n",
       "    </tr>\n",
       "    <tr>\n",
       "      <th>3</th>\n",
       "      <td>1</td>\n",
       "      <td>AK</td>\n",
       "      <td>20XX</td>\n",
       "      <td>3</td>\n",
       "      <td>NaN</td>\n",
       "      <td>XO</td>\n",
       "      <td>1220</td>\n",
       "      <td>24751</td>\n",
       "      <td>32</td>\n",
       "      <td>871</td>\n",
       "      <td>1.0</td>\n",
       "      <td>X</td>\n",
       "      <td>1.0</td>\n",
       "      <td>2022.0</td>\n",
       "      <td>dot1_0122.csv</td>\n",
       "      <td>NaN</td>\n",
       "    </tr>\n",
       "    <tr>\n",
       "      <th>4</th>\n",
       "      <td>1</td>\n",
       "      <td>AK</td>\n",
       "      <td>20XX</td>\n",
       "      <td>3</td>\n",
       "      <td>NaN</td>\n",
       "      <td>XQ</td>\n",
       "      <td>1220</td>\n",
       "      <td>2773</td>\n",
       "      <td>1</td>\n",
       "      <td>130</td>\n",
       "      <td>1.0</td>\n",
       "      <td>X</td>\n",
       "      <td>1.0</td>\n",
       "      <td>2022.0</td>\n",
       "      <td>dot1_0122.csv</td>\n",
       "      <td>NaN</td>\n",
       "    </tr>\n",
       "  </tbody>\n",
       "</table>\n",
       "</div>"
      ],
      "text/plain": [
       "   TRDTYPE USASTATE  DEPE  DISAGMOT MEXSTATE CANPROV  COUNTRY   VALUE  SHIPWT  \\\n",
       "0        1       AK  0901         5      NaN      XO     1220    7042       0   \n",
       "1        1       AK  20XX         3      NaN      XA     1220  117977     485   \n",
       "2        1       AK  20XX         3      NaN      XC     1220  105057   22924   \n",
       "3        1       AK  20XX         3      NaN      XO     1220   24751      32   \n",
       "4        1       AK  20XX         3      NaN      XQ     1220    2773       1   \n",
       "\n",
       "   FREIGHT_CHARGES   DF CONTCODE  MONTH    YEAR    source_file  COMMODITY2  \n",
       "0              137  1.0        X    1.0  2022.0  dot1_0122.csv         NaN  \n",
       "1             2181  1.0        X    1.0  2022.0  dot1_0122.csv         NaN  \n",
       "2             8899  1.0        X    1.0  2022.0  dot1_0122.csv         NaN  \n",
       "3              871  1.0        X    1.0  2022.0  dot1_0122.csv         NaN  \n",
       "4              130  1.0        X    1.0  2022.0  dot1_0122.csv         NaN  "
      ]
     },
     "execution_count": 7,
     "metadata": {},
     "output_type": "execute_result"
    }
   ],
   "source": [
    "# Use the same path you saved to\n",
    "merged_path = r\"C:\\Users\\Dell\\OneDrive\\Desktop\\Project 1\\2022\\2022_merged_freight_data.csv\"\n",
    "\n",
    "# Load the CSV into a new DataFrame\n",
    "TFDA_2022 = pd.read_csv(merged_path)\n",
    "\n",
    "# Preview the first 5 rows\n",
    "TFDA_2022.head()\n"
   ]
  },
  {
   "cell_type": "markdown",
   "id": "75785cff-465d-44ee-9073-1c1bb2a8a965",
   "metadata": {},
   "source": [
    "### Understanding the dataset"
   ]
  },
  {
   "cell_type": "code",
   "execution_count": 10,
   "id": "2e8e6ba7-9725-477b-9525-371142a0f7c8",
   "metadata": {},
   "outputs": [
    {
     "name": "stdout",
     "output_type": "stream",
     "text": [
      "<class 'pandas.core.frame.DataFrame'>\n",
      "RangeIndex: 10586812 entries, 0 to 10586811\n",
      "Data columns (total 16 columns):\n",
      " #   Column           Dtype  \n",
      "---  ------           -----  \n",
      " 0   TRDTYPE          int64  \n",
      " 1   USASTATE         object \n",
      " 2   DEPE             object \n",
      " 3   DISAGMOT         int64  \n",
      " 4   MEXSTATE         object \n",
      " 5   CANPROV          object \n",
      " 6   COUNTRY          int64  \n",
      " 7   VALUE            int64  \n",
      " 8   SHIPWT           int64  \n",
      " 9   FREIGHT_CHARGES  int64  \n",
      " 10  DF               float64\n",
      " 11  CONTCODE         object \n",
      " 12  MONTH            float64\n",
      " 13  YEAR             float64\n",
      " 14  source_file      object \n",
      " 15  COMMODITY2       float64\n",
      "dtypes: float64(4), int64(6), object(6)\n",
      "memory usage: 1.3+ GB\n"
     ]
    }
   ],
   "source": [
    "# Quick overview\n",
    "TFDA_2022.info()"
   ]
  },
  {
   "cell_type": "code",
   "execution_count": 14,
   "id": "bcd8dfbe-4e30-47ff-bc9d-d7c916a7c44c",
   "metadata": {},
   "outputs": [
    {
     "data": {
      "text/plain": [
       "(10586812, 16)"
      ]
     },
     "execution_count": 14,
     "metadata": {},
     "output_type": "execute_result"
    }
   ],
   "source": [
    "# checking the shape of the dataset\n",
    "TFDA_2022.shape"
   ]
  },
  {
   "cell_type": "code",
   "execution_count": 16,
   "id": "eb05992e-0701-4cdd-978c-90b0307a8055",
   "metadata": {},
   "outputs": [
    {
     "data": {
      "text/plain": [
       "Index(['TRDTYPE', 'USASTATE', 'DEPE', 'DISAGMOT', 'MEXSTATE', 'CANPROV',\n",
       "       'COUNTRY', 'VALUE', 'SHIPWT', 'FREIGHT_CHARGES', 'DF', 'CONTCODE',\n",
       "       'MONTH', 'YEAR', 'source_file', 'COMMODITY2'],\n",
       "      dtype='object')"
      ]
     },
     "execution_count": 16,
     "metadata": {},
     "output_type": "execute_result"
    }
   ],
   "source": [
    "# checking the various columns\n",
    "TFDA_2022.columns"
   ]
  },
  {
   "cell_type": "markdown",
   "id": "94607d1e-0ba3-4e56-a1b0-d2b3b982612a",
   "metadata": {},
   "source": [
    "### Data Cleaning "
   ]
  },
  {
   "cell_type": "code",
   "execution_count": 19,
   "id": "3a7f8b09-dd9a-48f2-a280-a29c49f6197d",
   "metadata": {},
   "outputs": [
    {
     "data": {
      "text/plain": [
       "array([1, 2], dtype=int64)"
      ]
     },
     "execution_count": 19,
     "metadata": {},
     "output_type": "execute_result"
    }
   ],
   "source": [
    "TFDA_2022['TRDTYPE'].unique()"
   ]
  },
  {
   "cell_type": "code",
   "execution_count": 23,
   "id": "3fa8cd78-7ecd-41ca-b072-bacb8f35f876",
   "metadata": {},
   "outputs": [
    {
     "data": {
      "text/plain": [
       "TRDTYPE\n",
       "1    7014474\n",
       "2    3572338\n",
       "Name: count, dtype: int64"
      ]
     },
     "execution_count": 23,
     "metadata": {},
     "output_type": "execute_result"
    }
   ],
   "source": [
    "# See the distribution of values in TRDTYPE\n",
    "TFDA_2022['TRDTYPE'].value_counts(dropna=False)"
   ]
  },
  {
   "cell_type": "code",
   "execution_count": 25,
   "id": "96caa7b9-4b50-48f7-b563-6f2bcd1ad105",
   "metadata": {},
   "outputs": [],
   "source": [
    "# Fill categorical columns with placeholders\n",
    "TFDA_2022['USASTATE'] = TFDA_2022['USASTATE'].fillna('UNKNOWN')\n",
    "TFDA_2022['DEPE'] = TFDA_2022['DEPE'].fillna('0000')\n",
    "TFDA_2022['MEXSTATE'] = TFDA_2022['MEXSTATE'].fillna('OT')         # 'OT' = State Unknown\n",
    "TFDA_2022['CANPROV'] = TFDA_2022['CANPROV'].fillna('OT')           # 'OT' = Province Unknown\n"
   ]
  },
  {
   "cell_type": "code",
   "execution_count": 27,
   "id": "b97e09e0-eb0f-4f15-b138-ff61e150e89c",
   "metadata": {},
   "outputs": [
    {
     "name": "stdout",
     "output_type": "stream",
     "text": [
      "TRDTYPE\n",
      "1    5403484\n",
      "2    3572338\n",
      "Name: count, dtype: int64\n"
     ]
    }
   ],
   "source": [
    "# Isolate all TRDTYPE == 2 rows (protect them)\n",
    "trdtype_2_rows = TFDA_2022[TFDA_2022['TRDTYPE'] == 2]\n",
    "\n",
    "# Clean the rest of the dataset (excluding TRDTYPE == 2)\n",
    "other_rows = TFDA_2022[TFDA_2022['TRDTYPE'] != 2]\n",
    "cleaned_other_rows = other_rows.dropna(subset=['DEPE', 'COMMODITY2', 'DF'])\n",
    "\n",
    "# Combine cleaned rows and protected TRDTYPE==2 rows\n",
    "TFDA_2022_cleaned = pd.concat([cleaned_other_rows, trdtype_2_rows], ignore_index=True)\n",
    "\n",
    "# Reset index\n",
    "TFDA_2022_cleaned.reset_index(drop=True, inplace=True)\n",
    "\n",
    "# Confirm TRDTYPE distribution\n",
    "print(TFDA_2022_cleaned['TRDTYPE'].value_counts(dropna=False))\n",
    "\n",
    "# reassign to main variable\n",
    "TFDA_2022 = TFDA_2022_cleaned"
   ]
  },
  {
   "cell_type": "code",
   "execution_count": 29,
   "id": "d43f91ec-59d9-4b9e-a1da-b87d3ee8bb45",
   "metadata": {},
   "outputs": [],
   "source": [
    "# Fill numeric columns with zeros or neutral values\n",
    "TFDA_2022['DF'] = TFDA_2022['DF'].fillna(0).astype(int)\n",
    "TFDA_2022['COMMODITY2'] = TFDA_2022['COMMODITY2'].fillna(99).astype(int)"
   ]
  },
  {
   "cell_type": "code",
   "execution_count": 31,
   "id": "51fa444e-4748-43ce-8bb9-1c22a17b1738",
   "metadata": {},
   "outputs": [
    {
     "name": "stdout",
     "output_type": "stream",
     "text": [
      "<class 'pandas.core.frame.DataFrame'>\n",
      "RangeIndex: 8975822 entries, 0 to 8975821\n",
      "Data columns (total 16 columns):\n",
      " #   Column           Dtype  \n",
      "---  ------           -----  \n",
      " 0   TRDTYPE          int64  \n",
      " 1   USASTATE         object \n",
      " 2   DEPE             object \n",
      " 3   DISAGMOT         int64  \n",
      " 4   MEXSTATE         object \n",
      " 5   CANPROV          object \n",
      " 6   COUNTRY          int64  \n",
      " 7   VALUE            int64  \n",
      " 8   SHIPWT           int64  \n",
      " 9   FREIGHT_CHARGES  int64  \n",
      " 10  DF               int32  \n",
      " 11  CONTCODE         object \n",
      " 12  MONTH            float64\n",
      " 13  YEAR             float64\n",
      " 14  source_file      object \n",
      " 15  COMMODITY2       int32  \n",
      "dtypes: float64(2), int32(2), int64(6), object(6)\n",
      "memory usage: 1.0+ GB\n"
     ]
    }
   ],
   "source": [
    "TFDA_2022.info()"
   ]
  },
  {
   "cell_type": "code",
   "execution_count": 33,
   "id": "11958a44-ab63-46c2-a929-2c45c7d4f454",
   "metadata": {},
   "outputs": [
    {
     "data": {
      "text/plain": [
       "0"
      ]
     },
     "execution_count": 33,
     "metadata": {},
     "output_type": "execute_result"
    }
   ],
   "source": [
    "TFDA_2022.duplicated().sum()"
   ]
  },
  {
   "cell_type": "code",
   "execution_count": 35,
   "id": "673769be-d7f3-4669-8f54-e7f8684b2fc8",
   "metadata": {},
   "outputs": [
    {
     "data": {
      "text/plain": [
       "TRDTYPE                 0\n",
       "USASTATE                0\n",
       "DEPE                    0\n",
       "DISAGMOT                0\n",
       "MEXSTATE                0\n",
       "CANPROV                 0\n",
       "COUNTRY                 0\n",
       "VALUE                   0\n",
       "SHIPWT                  0\n",
       "FREIGHT_CHARGES         0\n",
       "DF                      0\n",
       "CONTCODE                0\n",
       "MONTH              212676\n",
       "YEAR                    1\n",
       "source_file             0\n",
       "COMMODITY2              0\n",
       "dtype: int64"
      ]
     },
     "execution_count": 35,
     "metadata": {},
     "output_type": "execute_result"
    }
   ],
   "source": [
    "# checking for NaNs in the dataset\n",
    "TFDA_2022.isnull().sum()"
   ]
  },
  {
   "cell_type": "code",
   "execution_count": 37,
   "id": "123e3bf8-87bf-45cc-b7af-2c7a96721616",
   "metadata": {},
   "outputs": [],
   "source": [
    "# For example: keep rows where DEPE, COMMODITY2, and DF are not null\n",
    "TFDA_2022.dropna(subset=['DEPE', 'COMMODITY2', 'DF', 'MONTH'], inplace=True)"
   ]
  },
  {
   "cell_type": "code",
   "execution_count": 39,
   "id": "e09f27cc-c39e-4d68-aa3d-b06a1311a770",
   "metadata": {},
   "outputs": [
    {
     "data": {
      "text/plain": [
       "TRDTYPE            0\n",
       "USASTATE           0\n",
       "DEPE               0\n",
       "DISAGMOT           0\n",
       "MEXSTATE           0\n",
       "CANPROV            0\n",
       "COUNTRY            0\n",
       "VALUE              0\n",
       "SHIPWT             0\n",
       "FREIGHT_CHARGES    0\n",
       "DF                 0\n",
       "CONTCODE           0\n",
       "MONTH              0\n",
       "YEAR               1\n",
       "source_file        0\n",
       "COMMODITY2         0\n",
       "dtype: int64"
      ]
     },
     "execution_count": 39,
     "metadata": {},
     "output_type": "execute_result"
    }
   ],
   "source": [
    "# checking again for NaNs to be sure they have been worked on\n",
    "TFDA_2022.isnull().sum()"
   ]
  },
  {
   "cell_type": "code",
   "execution_count": 43,
   "id": "964f65cc-9127-4fe0-b58c-e45df4898df4",
   "metadata": {},
   "outputs": [
    {
     "data": {
      "text/html": [
       "<div>\n",
       "<style scoped>\n",
       "    .dataframe tbody tr th:only-of-type {\n",
       "        vertical-align: middle;\n",
       "    }\n",
       "\n",
       "    .dataframe tbody tr th {\n",
       "        vertical-align: top;\n",
       "    }\n",
       "\n",
       "    .dataframe thead th {\n",
       "        text-align: right;\n",
       "    }\n",
       "</style>\n",
       "<table border=\"1\" class=\"dataframe\">\n",
       "  <thead>\n",
       "    <tr style=\"text-align: right;\">\n",
       "      <th></th>\n",
       "      <th>TRDTYPE</th>\n",
       "      <th>DISAGMOT</th>\n",
       "      <th>COUNTRY</th>\n",
       "      <th>VALUE</th>\n",
       "      <th>SHIPWT</th>\n",
       "      <th>FREIGHT_CHARGES</th>\n",
       "      <th>DF</th>\n",
       "      <th>MONTH</th>\n",
       "      <th>YEAR</th>\n",
       "      <th>COMMODITY2</th>\n",
       "    </tr>\n",
       "  </thead>\n",
       "  <tbody>\n",
       "    <tr>\n",
       "      <th>count</th>\n",
       "      <td>8.763146e+06</td>\n",
       "      <td>8.763146e+06</td>\n",
       "      <td>8.763146e+06</td>\n",
       "      <td>8.763146e+06</td>\n",
       "      <td>8.763146e+06</td>\n",
       "      <td>8.763146e+06</td>\n",
       "      <td>8.763146e+06</td>\n",
       "      <td>8.763146e+06</td>\n",
       "      <td>8763145.0</td>\n",
       "      <td>8.763146e+06</td>\n",
       "    </tr>\n",
       "    <tr>\n",
       "      <th>mean</th>\n",
       "      <td>1.398418e+00</td>\n",
       "      <td>4.737910e+00</td>\n",
       "      <td>1.518885e+03</td>\n",
       "      <td>3.297910e+06</td>\n",
       "      <td>1.397515e+06</td>\n",
       "      <td>4.647272e+04</td>\n",
       "      <td>8.035710e-01</td>\n",
       "      <td>5.103625e+00</td>\n",
       "      <td>2022.0</td>\n",
       "      <td>6.153295e+01</td>\n",
       "    </tr>\n",
       "    <tr>\n",
       "      <th>std</th>\n",
       "      <td>4.895724e-01</td>\n",
       "      <td>1.234368e+00</td>\n",
       "      <td>3.831279e+02</td>\n",
       "      <td>4.339930e+07</td>\n",
       "      <td>4.467827e+07</td>\n",
       "      <td>1.198617e+06</td>\n",
       "      <td>7.495486e-01</td>\n",
       "      <td>3.076739e+00</td>\n",
       "      <td>0.0</td>\n",
       "      <td>2.931553e+01</td>\n",
       "    </tr>\n",
       "    <tr>\n",
       "      <th>min</th>\n",
       "      <td>1.000000e+00</td>\n",
       "      <td>1.000000e+00</td>\n",
       "      <td>1.220000e+03</td>\n",
       "      <td>0.000000e+00</td>\n",
       "      <td>0.000000e+00</td>\n",
       "      <td>0.000000e+00</td>\n",
       "      <td>0.000000e+00</td>\n",
       "      <td>1.000000e+00</td>\n",
       "      <td>2022.0</td>\n",
       "      <td>1.000000e+00</td>\n",
       "    </tr>\n",
       "    <tr>\n",
       "      <th>25%</th>\n",
       "      <td>1.000000e+00</td>\n",
       "      <td>5.000000e+00</td>\n",
       "      <td>1.220000e+03</td>\n",
       "      <td>1.468600e+04</td>\n",
       "      <td>0.000000e+00</td>\n",
       "      <td>0.000000e+00</td>\n",
       "      <td>0.000000e+00</td>\n",
       "      <td>2.000000e+00</td>\n",
       "      <td>2022.0</td>\n",
       "      <td>3.800000e+01</td>\n",
       "    </tr>\n",
       "    <tr>\n",
       "      <th>50%</th>\n",
       "      <td>1.000000e+00</td>\n",
       "      <td>5.000000e+00</td>\n",
       "      <td>1.220000e+03</td>\n",
       "      <td>7.596100e+04</td>\n",
       "      <td>1.000000e+00</td>\n",
       "      <td>3.780000e+02</td>\n",
       "      <td>1.000000e+00</td>\n",
       "      <td>5.000000e+00</td>\n",
       "      <td>2022.0</td>\n",
       "      <td>6.900000e+01</td>\n",
       "    </tr>\n",
       "    <tr>\n",
       "      <th>75%</th>\n",
       "      <td>2.000000e+00</td>\n",
       "      <td>5.000000e+00</td>\n",
       "      <td>2.010000e+03</td>\n",
       "      <td>4.622110e+05</td>\n",
       "      <td>7.153000e+03</td>\n",
       "      <td>3.531000e+03</td>\n",
       "      <td>1.000000e+00</td>\n",
       "      <td>7.000000e+00</td>\n",
       "      <td>2022.0</td>\n",
       "      <td>8.700000e+01</td>\n",
       "    </tr>\n",
       "    <tr>\n",
       "      <th>max</th>\n",
       "      <td>2.000000e+00</td>\n",
       "      <td>9.000000e+00</td>\n",
       "      <td>2.010000e+03</td>\n",
       "      <td>5.331094e+09</td>\n",
       "      <td>8.342996e+09</td>\n",
       "      <td>2.256902e+08</td>\n",
       "      <td>2.000000e+00</td>\n",
       "      <td>1.200000e+01</td>\n",
       "      <td>2022.0</td>\n",
       "      <td>9.900000e+01</td>\n",
       "    </tr>\n",
       "  </tbody>\n",
       "</table>\n",
       "</div>"
      ],
      "text/plain": [
       "            TRDTYPE      DISAGMOT       COUNTRY         VALUE        SHIPWT  \\\n",
       "count  8.763146e+06  8.763146e+06  8.763146e+06  8.763146e+06  8.763146e+06   \n",
       "mean   1.398418e+00  4.737910e+00  1.518885e+03  3.297910e+06  1.397515e+06   \n",
       "std    4.895724e-01  1.234368e+00  3.831279e+02  4.339930e+07  4.467827e+07   \n",
       "min    1.000000e+00  1.000000e+00  1.220000e+03  0.000000e+00  0.000000e+00   \n",
       "25%    1.000000e+00  5.000000e+00  1.220000e+03  1.468600e+04  0.000000e+00   \n",
       "50%    1.000000e+00  5.000000e+00  1.220000e+03  7.596100e+04  1.000000e+00   \n",
       "75%    2.000000e+00  5.000000e+00  2.010000e+03  4.622110e+05  7.153000e+03   \n",
       "max    2.000000e+00  9.000000e+00  2.010000e+03  5.331094e+09  8.342996e+09   \n",
       "\n",
       "       FREIGHT_CHARGES            DF         MONTH       YEAR    COMMODITY2  \n",
       "count     8.763146e+06  8.763146e+06  8.763146e+06  8763145.0  8.763146e+06  \n",
       "mean      4.647272e+04  8.035710e-01  5.103625e+00     2022.0  6.153295e+01  \n",
       "std       1.198617e+06  7.495486e-01  3.076739e+00        0.0  2.931553e+01  \n",
       "min       0.000000e+00  0.000000e+00  1.000000e+00     2022.0  1.000000e+00  \n",
       "25%       0.000000e+00  0.000000e+00  2.000000e+00     2022.0  3.800000e+01  \n",
       "50%       3.780000e+02  1.000000e+00  5.000000e+00     2022.0  6.900000e+01  \n",
       "75%       3.531000e+03  1.000000e+00  7.000000e+00     2022.0  8.700000e+01  \n",
       "max       2.256902e+08  2.000000e+00  1.200000e+01     2022.0  9.900000e+01  "
      ]
     },
     "execution_count": 43,
     "metadata": {},
     "output_type": "execute_result"
    }
   ],
   "source": [
    "# Summary statistics\n",
    "TFDA_2022.describe()"
   ]
  },
  {
   "cell_type": "code",
   "execution_count": 45,
   "id": "90f0d197-8e1b-4ced-90af-f8cbacc45d22",
   "metadata": {},
   "outputs": [
    {
     "data": {
      "text/plain": [
       "TRDTYPE              int64\n",
       "USASTATE            object\n",
       "DEPE                object\n",
       "DISAGMOT             int64\n",
       "MEXSTATE            object\n",
       "CANPROV             object\n",
       "COUNTRY              int64\n",
       "VALUE                int64\n",
       "SHIPWT               int64\n",
       "FREIGHT_CHARGES      int64\n",
       "DF                   int32\n",
       "CONTCODE            object\n",
       "MONTH              float64\n",
       "YEAR               float64\n",
       "source_file         object\n",
       "COMMODITY2           int32\n",
       "dtype: object"
      ]
     },
     "execution_count": 45,
     "metadata": {},
     "output_type": "execute_result"
    }
   ],
   "source": [
    "TFDA_2022.dtypes"
   ]
  },
  {
   "cell_type": "code",
   "execution_count": 47,
   "id": "a92f135a-7903-4581-a428-6466233a229e",
   "metadata": {},
   "outputs": [
    {
     "data": {
      "text/plain": [
       "(8763146, 16)"
      ]
     },
     "execution_count": 47,
     "metadata": {},
     "output_type": "execute_result"
    }
   ],
   "source": [
    "TFDA_2022.shape"
   ]
  },
  {
   "cell_type": "code",
   "execution_count": 49,
   "id": "89779675-4133-4ffe-ac57-ae8c90212790",
   "metadata": {},
   "outputs": [],
   "source": [
    "TFDA_2022.to_csv(\"TFDA_2022_cleaned.csv\", index=False, encoding='utf-8-sig')"
   ]
  },
  {
   "cell_type": "code",
   "execution_count": null,
   "id": "b7327abf-1dd5-4983-b3d6-4d4a1c3d4abb",
   "metadata": {},
   "outputs": [],
   "source": []
  }
 ],
 "metadata": {
  "kernelspec": {
   "display_name": "Python [conda env:base] *",
   "language": "python",
   "name": "conda-base-py"
  },
  "language_info": {
   "codemirror_mode": {
    "name": "ipython",
    "version": 3
   },
   "file_extension": ".py",
   "mimetype": "text/x-python",
   "name": "python",
   "nbconvert_exporter": "python",
   "pygments_lexer": "ipython3",
   "version": "3.12.7"
  }
 },
 "nbformat": 4,
 "nbformat_minor": 5
}
