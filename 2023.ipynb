{
 "cells": [
  {
   "cell_type": "code",
   "execution_count": 1,
   "id": "bab30a96-d96a-4a68-b23b-0610d752d718",
   "metadata": {},
   "outputs": [],
   "source": [
    "# import the libraries\n",
    "import numpy as np\n",
    "import pandas as pd\n",
    "import matplotlib.pyplot as plt\n",
    "import seaborn as sns\n",
    "import os\n",
    "import warnings\n",
    "warnings.filterwarnings('ignore')"
   ]
  },
  {
   "cell_type": "code",
   "execution_count": 3,
   "id": "444e0c07-aecb-4233-bbfe-e79c4931a926",
   "metadata": {},
   "outputs": [
    {
     "name": "stdout",
     "output_type": "stream",
     "text": [
      "🗂 Found 60 CSV files.\n",
      "✅ Loaded: dot1_0123.csv\n",
      "✅ Loaded: dot1_0223.csv\n",
      "✅ Loaded: dot1_0323.csv\n",
      "✅ Loaded: dot1_0423.csv\n",
      "✅ Loaded: dot1_0523.csv\n",
      "✅ Loaded: dot1_0623.csv\n",
      "✅ Loaded: dot1_0723.csv\n",
      "✅ Loaded: dot1_0823.csv\n",
      "✅ Loaded: dot1_0923.csv\n",
      "✅ Loaded: dot1_1023.csv\n",
      "✅ Loaded: dot1_1123.csv\n",
      "✅ Loaded: dot1_1223.csv\n",
      "✅ Loaded: dot1_ytd_0123.csv\n",
      "✅ Loaded: dot1_ytd_0223.csv\n",
      "✅ Loaded: dot1_ytd_0323.csv\n",
      "✅ Loaded: dot1_ytd_0423.csv\n",
      "✅ Loaded: dot1_ytd_0523.csv\n",
      "✅ Loaded: dot1_ytd_0623.csv\n",
      "✅ Loaded: dot1_ytd_0723.csv\n",
      "✅ Loaded: dot1_ytd_0823.csv\n",
      "✅ Loaded: dot2_0123.csv\n",
      "✅ Loaded: dot2_0223.csv\n",
      "✅ Loaded: dot2_0323.csv\n",
      "✅ Loaded: dot2_0423.csv\n",
      "✅ Loaded: dot2_0523.csv\n",
      "✅ Loaded: dot2_0623.csv\n",
      "✅ Loaded: dot2_0723.csv\n",
      "✅ Loaded: dot2_0823.csv\n",
      "✅ Loaded: dot2_0923.csv\n",
      "✅ Loaded: dot2_1023.csv\n",
      "✅ Loaded: dot2_1123.csv\n",
      "✅ Loaded: dot2_1223.csv\n",
      "✅ Loaded: dot2_ytd_0123.csv\n",
      "✅ Loaded: dot2_ytd_0223.csv\n",
      "✅ Loaded: dot2_ytd_0323.csv\n",
      "✅ Loaded: dot2_ytd_0423.csv\n",
      "✅ Loaded: dot2_ytd_0523.csv\n",
      "✅ Loaded: dot2_ytd_0623.csv\n",
      "✅ Loaded: dot2_ytd_0723.csv\n",
      "✅ Loaded: dot2_ytd_0823.csv\n",
      "✅ Loaded: dot3_0123.csv\n",
      "✅ Loaded: dot3_0223.csv\n",
      "✅ Loaded: dot3_0323.csv\n",
      "✅ Loaded: dot3_0423.csv\n",
      "✅ Loaded: dot3_0523.csv\n",
      "✅ Loaded: dot3_0623.csv\n",
      "✅ Loaded: dot3_0723.csv\n",
      "✅ Loaded: dot3_0823.csv\n",
      "✅ Loaded: dot3_0923.csv\n",
      "✅ Loaded: dot3_1023.csv\n",
      "✅ Loaded: dot3_1123.csv\n",
      "✅ Loaded: dot3_1223.csv\n",
      "✅ Loaded: dot3_ytd_0123.csv\n",
      "✅ Loaded: dot3_ytd_0223.csv\n",
      "✅ Loaded: dot3_ytd_0323.csv\n",
      "✅ Loaded: dot3_ytd_0423.csv\n",
      "✅ Loaded: dot3_ytd_0523.csv\n",
      "✅ Loaded: dot3_ytd_0623.csv\n",
      "✅ Loaded: dot3_ytd_0723.csv\n",
      "✅ Loaded: dot3_ytd_0823.csv\n",
      "✅ Successfully merged 60 DataFrames.\n",
      "📁 Merged CSV saved to: C:\\Users\\Dell\\OneDrive\\Desktop\\Project 1\\2023\\2023_merged_freight_data.csv\n"
     ]
    }
   ],
   "source": [
    "# 🔹 1. Define your folder path (use raw string to avoid Windows escape errors)\n",
    "csv_dir = r\"C:\\Users\\Dell\\OneDrive\\Desktop\\Project 1\\2023\"\n",
    "\n",
    "# 🔹 2. Get all .csv files in the folder\n",
    "csv_files = [file for file in os.listdir(csv_dir) if file.endswith(\".csv\")]\n",
    "print(f\"🗂 Found {len(csv_files)} CSV files.\")\n",
    "\n",
    "# 🔹 3. Create a list to hold individual DataFrames\n",
    "dataframes = []\n",
    "\n",
    "# 🔹 4. Loop through files, read them, and append to the list\n",
    "for file in csv_files:\n",
    "    file_path = os.path.join(csv_dir, file)\n",
    "    \n",
    "    try:\n",
    "        df = pd.read_csv(file_path)\n",
    "        df['source_file'] = file  # Optional: Track which file each row came from\n",
    "        dataframes.append(df)\n",
    "        print(f\"✅ Loaded: {file}\")\n",
    "    except Exception as e:\n",
    "        print(f\"⚠️ Could not read {file}: {e}\")\n",
    "\n",
    "# 🔹 5. Concatenate all loaded DataFrames\n",
    "if dataframes:\n",
    "    merged_df = pd.concat(dataframes, ignore_index=True)\n",
    "    print(f\"✅ Successfully merged {len(dataframes)} DataFrames.\")\n",
    "else:\n",
    "    print(\"❌ No DataFrames loaded. Check file formats or folder path.\")\n",
    "\n",
    "# 🔹 6. (Optional) Preview and save the merged result\n",
    "merged_df.head()  # Preview first 5 rows\n",
    "\n",
    "# 🔹 7. Save to disk\n",
    "output_path = os.path.join(csv_dir, \"2023_merged_freight_data.csv\")\n",
    "merged_df.to_csv(output_path, index=False)\n",
    "print(f\"📁 Merged CSV saved to: {output_path}\")\n"
   ]
  },
  {
   "cell_type": "code",
   "execution_count": 5,
   "id": "ed64001a-95cb-4023-918b-3a4236dbcc85",
   "metadata": {},
   "outputs": [
    {
     "data": {
      "text/html": [
       "<div>\n",
       "<style scoped>\n",
       "    .dataframe tbody tr th:only-of-type {\n",
       "        vertical-align: middle;\n",
       "    }\n",
       "\n",
       "    .dataframe tbody tr th {\n",
       "        vertical-align: top;\n",
       "    }\n",
       "\n",
       "    .dataframe thead th {\n",
       "        text-align: right;\n",
       "    }\n",
       "</style>\n",
       "<table border=\"1\" class=\"dataframe\">\n",
       "  <thead>\n",
       "    <tr style=\"text-align: right;\">\n",
       "      <th></th>\n",
       "      <th>TRDTYPE</th>\n",
       "      <th>USASTATE</th>\n",
       "      <th>DEPE</th>\n",
       "      <th>DISAGMOT</th>\n",
       "      <th>MEXSTATE</th>\n",
       "      <th>CANPROV</th>\n",
       "      <th>COUNTRY</th>\n",
       "      <th>VALUE</th>\n",
       "      <th>SHIPWT</th>\n",
       "      <th>FREIGHT_CHARGES</th>\n",
       "      <th>DF</th>\n",
       "      <th>CONTCODE</th>\n",
       "      <th>MONTH</th>\n",
       "      <th>YEAR</th>\n",
       "      <th>source_file</th>\n",
       "      <th>COMMODITY2</th>\n",
       "    </tr>\n",
       "  </thead>\n",
       "  <tbody>\n",
       "    <tr>\n",
       "      <th>0</th>\n",
       "      <td>1</td>\n",
       "      <td>AK</td>\n",
       "      <td>0115</td>\n",
       "      <td>5</td>\n",
       "      <td>NaN</td>\n",
       "      <td>XB</td>\n",
       "      <td>1220</td>\n",
       "      <td>6536</td>\n",
       "      <td>0</td>\n",
       "      <td>222</td>\n",
       "      <td>1.0</td>\n",
       "      <td>X</td>\n",
       "      <td>1</td>\n",
       "      <td>2023</td>\n",
       "      <td>dot1_0123.csv</td>\n",
       "      <td>NaN</td>\n",
       "    </tr>\n",
       "    <tr>\n",
       "      <th>1</th>\n",
       "      <td>1</td>\n",
       "      <td>AK</td>\n",
       "      <td>0115</td>\n",
       "      <td>5</td>\n",
       "      <td>NaN</td>\n",
       "      <td>XB</td>\n",
       "      <td>1220</td>\n",
       "      <td>10294</td>\n",
       "      <td>0</td>\n",
       "      <td>350</td>\n",
       "      <td>2.0</td>\n",
       "      <td>X</td>\n",
       "      <td>1</td>\n",
       "      <td>2023</td>\n",
       "      <td>dot1_0123.csv</td>\n",
       "      <td>NaN</td>\n",
       "    </tr>\n",
       "    <tr>\n",
       "      <th>2</th>\n",
       "      <td>1</td>\n",
       "      <td>AK</td>\n",
       "      <td>0712</td>\n",
       "      <td>5</td>\n",
       "      <td>NaN</td>\n",
       "      <td>XQ</td>\n",
       "      <td>1220</td>\n",
       "      <td>60692</td>\n",
       "      <td>0</td>\n",
       "      <td>2209</td>\n",
       "      <td>1.0</td>\n",
       "      <td>X</td>\n",
       "      <td>1</td>\n",
       "      <td>2023</td>\n",
       "      <td>dot1_0123.csv</td>\n",
       "      <td>NaN</td>\n",
       "    </tr>\n",
       "    <tr>\n",
       "      <th>3</th>\n",
       "      <td>1</td>\n",
       "      <td>AK</td>\n",
       "      <td>0901</td>\n",
       "      <td>5</td>\n",
       "      <td>NaN</td>\n",
       "      <td>XO</td>\n",
       "      <td>1220</td>\n",
       "      <td>5480</td>\n",
       "      <td>0</td>\n",
       "      <td>107</td>\n",
       "      <td>1.0</td>\n",
       "      <td>X</td>\n",
       "      <td>1</td>\n",
       "      <td>2023</td>\n",
       "      <td>dot1_0123.csv</td>\n",
       "      <td>NaN</td>\n",
       "    </tr>\n",
       "    <tr>\n",
       "      <th>4</th>\n",
       "      <td>1</td>\n",
       "      <td>AK</td>\n",
       "      <td>09XX</td>\n",
       "      <td>3</td>\n",
       "      <td>NaN</td>\n",
       "      <td>XO</td>\n",
       "      <td>1220</td>\n",
       "      <td>12284</td>\n",
       "      <td>5</td>\n",
       "      <td>240</td>\n",
       "      <td>2.0</td>\n",
       "      <td>X</td>\n",
       "      <td>1</td>\n",
       "      <td>2023</td>\n",
       "      <td>dot1_0123.csv</td>\n",
       "      <td>NaN</td>\n",
       "    </tr>\n",
       "  </tbody>\n",
       "</table>\n",
       "</div>"
      ],
      "text/plain": [
       "   TRDTYPE USASTATE  DEPE  DISAGMOT MEXSTATE CANPROV  COUNTRY  VALUE  SHIPWT  \\\n",
       "0        1       AK  0115         5      NaN      XB     1220   6536       0   \n",
       "1        1       AK  0115         5      NaN      XB     1220  10294       0   \n",
       "2        1       AK  0712         5      NaN      XQ     1220  60692       0   \n",
       "3        1       AK  0901         5      NaN      XO     1220   5480       0   \n",
       "4        1       AK  09XX         3      NaN      XO     1220  12284       5   \n",
       "\n",
       "   FREIGHT_CHARGES   DF CONTCODE  MONTH  YEAR    source_file  COMMODITY2  \n",
       "0              222  1.0        X      1  2023  dot1_0123.csv         NaN  \n",
       "1              350  2.0        X      1  2023  dot1_0123.csv         NaN  \n",
       "2             2209  1.0        X      1  2023  dot1_0123.csv         NaN  \n",
       "3              107  1.0        X      1  2023  dot1_0123.csv         NaN  \n",
       "4              240  2.0        X      1  2023  dot1_0123.csv         NaN  "
      ]
     },
     "execution_count": 5,
     "metadata": {},
     "output_type": "execute_result"
    }
   ],
   "source": [
    "# Use the same path you saved to\n",
    "merged_path = r\"C:\\Users\\Dell\\OneDrive\\Desktop\\Project 1\\2023\\2023_merged_freight_data.csv\"\n",
    "\n",
    "# Load the CSV into a new DataFrame\n",
    "TFDA_2023 = pd.read_csv(merged_path)\n",
    "\n",
    "# Preview the first 5 rows\n",
    "TFDA_2023.head()\n"
   ]
  },
  {
   "cell_type": "markdown",
   "id": "75785cff-465d-44ee-9073-1c1bb2a8a965",
   "metadata": {},
   "source": [
    "### Understanding the dataset"
   ]
  },
  {
   "cell_type": "code",
   "execution_count": 8,
   "id": "2e8e6ba7-9725-477b-9525-371142a0f7c8",
   "metadata": {},
   "outputs": [
    {
     "name": "stdout",
     "output_type": "stream",
     "text": [
      "<class 'pandas.core.frame.DataFrame'>\n",
      "RangeIndex: 5919169 entries, 0 to 5919168\n",
      "Data columns (total 16 columns):\n",
      " #   Column           Dtype  \n",
      "---  ------           -----  \n",
      " 0   TRDTYPE          int64  \n",
      " 1   USASTATE         object \n",
      " 2   DEPE             object \n",
      " 3   DISAGMOT         int64  \n",
      " 4   MEXSTATE         object \n",
      " 5   CANPROV          object \n",
      " 6   COUNTRY          int64  \n",
      " 7   VALUE            int64  \n",
      " 8   SHIPWT           int64  \n",
      " 9   FREIGHT_CHARGES  int64  \n",
      " 10  DF               float64\n",
      " 11  CONTCODE         object \n",
      " 12  MONTH            int64  \n",
      " 13  YEAR             int64  \n",
      " 14  source_file      object \n",
      " 15  COMMODITY2       float64\n",
      "dtypes: float64(2), int64(8), object(6)\n",
      "memory usage: 722.6+ MB\n"
     ]
    }
   ],
   "source": [
    "# Quick overview\n",
    "TFDA_2023.info()"
   ]
  },
  {
   "cell_type": "code",
   "execution_count": 10,
   "id": "bcd8dfbe-4e30-47ff-bc9d-d7c916a7c44c",
   "metadata": {},
   "outputs": [
    {
     "data": {
      "text/plain": [
       "(5919169, 16)"
      ]
     },
     "execution_count": 10,
     "metadata": {},
     "output_type": "execute_result"
    }
   ],
   "source": [
    "# checking the shape of the dataset\n",
    "TFDA_2023.shape"
   ]
  },
  {
   "cell_type": "code",
   "execution_count": 12,
   "id": "eb05992e-0701-4cdd-978c-90b0307a8055",
   "metadata": {},
   "outputs": [
    {
     "data": {
      "text/plain": [
       "Index(['TRDTYPE', 'USASTATE', 'DEPE', 'DISAGMOT', 'MEXSTATE', 'CANPROV',\n",
       "       'COUNTRY', 'VALUE', 'SHIPWT', 'FREIGHT_CHARGES', 'DF', 'CONTCODE',\n",
       "       'MONTH', 'YEAR', 'source_file', 'COMMODITY2'],\n",
       "      dtype='object')"
      ]
     },
     "execution_count": 12,
     "metadata": {},
     "output_type": "execute_result"
    }
   ],
   "source": [
    "# checking the various columns\n",
    "TFDA_2023.columns"
   ]
  },
  {
   "cell_type": "markdown",
   "id": "94607d1e-0ba3-4e56-a1b0-d2b3b982612a",
   "metadata": {},
   "source": [
    "### Data Cleaning "
   ]
  },
  {
   "cell_type": "code",
   "execution_count": 15,
   "id": "5a3a7f35-2414-440b-b58a-4c8adf6a6e25",
   "metadata": {},
   "outputs": [
    {
     "data": {
      "text/plain": [
       "array([1, 2], dtype=int64)"
      ]
     },
     "execution_count": 15,
     "metadata": {},
     "output_type": "execute_result"
    }
   ],
   "source": [
    "TFDA_2023['TRDTYPE'].unique()"
   ]
  },
  {
   "cell_type": "code",
   "execution_count": 17,
   "id": "95835e6a-91f9-45f1-88bc-bb9eb769283e",
   "metadata": {},
   "outputs": [
    {
     "data": {
      "text/plain": [
       "TRDTYPE\n",
       "1    3943619\n",
       "2    1975550\n",
       "Name: count, dtype: int64"
      ]
     },
     "execution_count": 17,
     "metadata": {},
     "output_type": "execute_result"
    }
   ],
   "source": [
    "# See the distribution of values in TRDTYPE\n",
    "TFDA_2023['TRDTYPE'].value_counts(dropna=False)"
   ]
  },
  {
   "cell_type": "code",
   "execution_count": 19,
   "id": "96caa7b9-4b50-48f7-b563-6f2bcd1ad105",
   "metadata": {},
   "outputs": [],
   "source": [
    "# Fill categorical columns with placeholders\n",
    "TFDA_2023['USASTATE'] = TFDA_2023['USASTATE'].fillna('UNKNOWN')\n",
    "TFDA_2023['DEPE'] = TFDA_2023['DEPE'].fillna('0000')\n",
    "TFDA_2023['MEXSTATE'] = TFDA_2023['MEXSTATE'].fillna('OT')         # 'OT' = State Unknown\n",
    "TFDA_2023['CANPROV'] = TFDA_2023['CANPROV'].fillna('OT')           # 'OT' = Province Unknown\n"
   ]
  },
  {
   "cell_type": "code",
   "execution_count": 21,
   "id": "6f2fe542-e27e-483f-ab63-f53f32592a1f",
   "metadata": {},
   "outputs": [
    {
     "name": "stdout",
     "output_type": "stream",
     "text": [
      "TRDTYPE\n",
      "1    3093154\n",
      "2    1975550\n",
      "Name: count, dtype: int64\n"
     ]
    }
   ],
   "source": [
    "# Isolate all TRDTYPE == 2 rows (protect them)\n",
    "trdtype_2_rows = TFDA_2023[TFDA_2023['TRDTYPE'] == 2]\n",
    "\n",
    "# Clean the rest of the dataset (excluding TRDTYPE == 2)\n",
    "other_rows = TFDA_2023[TFDA_2023['TRDTYPE'] != 2]\n",
    "cleaned_other_rows = other_rows.dropna(subset=['DEPE', 'COMMODITY2', 'DF'])\n",
    "\n",
    "# Combine cleaned rows and protected TRDTYPE==2 rows\n",
    "TFDA_2023_cleaned = pd.concat([cleaned_other_rows, trdtype_2_rows], ignore_index=True)\n",
    "\n",
    "# Reset index\n",
    "TFDA_2023_cleaned.reset_index(drop=True, inplace=True)\n",
    "\n",
    "# Confirm TRDTYPE distribution\n",
    "print(TFDA_2023_cleaned['TRDTYPE'].value_counts(dropna=False))\n",
    "\n",
    "# reassign to main variable\n",
    "TFDA_2023 = TFDA_2023_cleaned"
   ]
  },
  {
   "cell_type": "code",
   "execution_count": 23,
   "id": "d43f91ec-59d9-4b9e-a1da-b87d3ee8bb45",
   "metadata": {},
   "outputs": [],
   "source": [
    "# Fill numeric columns with zeros or neutral values\n",
    "TFDA_2023['DF'] = TFDA_2023['DF'].fillna(0).astype(int)\n",
    "TFDA_2023['COMMODITY2'] = TFDA_2023['COMMODITY2'].fillna(99).astype(int)"
   ]
  },
  {
   "cell_type": "code",
   "execution_count": 25,
   "id": "90f0d197-8e1b-4ced-90af-f8cbacc45d22",
   "metadata": {},
   "outputs": [
    {
     "data": {
      "text/plain": [
       "TRDTYPE             int64\n",
       "USASTATE           object\n",
       "DEPE               object\n",
       "DISAGMOT            int64\n",
       "MEXSTATE           object\n",
       "CANPROV            object\n",
       "COUNTRY             int64\n",
       "VALUE               int64\n",
       "SHIPWT              int64\n",
       "FREIGHT_CHARGES     int64\n",
       "DF                  int32\n",
       "CONTCODE           object\n",
       "MONTH               int64\n",
       "YEAR                int64\n",
       "source_file        object\n",
       "COMMODITY2          int32\n",
       "dtype: object"
      ]
     },
     "execution_count": 25,
     "metadata": {},
     "output_type": "execute_result"
    }
   ],
   "source": [
    "TFDA_2023.dtypes"
   ]
  },
  {
   "cell_type": "code",
   "execution_count": 27,
   "id": "11958a44-ab63-46c2-a929-2c45c7d4f454",
   "metadata": {},
   "outputs": [
    {
     "data": {
      "text/plain": [
       "0"
      ]
     },
     "execution_count": 27,
     "metadata": {},
     "output_type": "execute_result"
    }
   ],
   "source": [
    "TFDA_2023.duplicated().sum()"
   ]
  },
  {
   "cell_type": "code",
   "execution_count": 29,
   "id": "e09f27cc-c39e-4d68-aa3d-b06a1311a770",
   "metadata": {},
   "outputs": [
    {
     "data": {
      "text/plain": [
       "TRDTYPE            0\n",
       "USASTATE           0\n",
       "DEPE               0\n",
       "DISAGMOT           0\n",
       "MEXSTATE           0\n",
       "CANPROV            0\n",
       "COUNTRY            0\n",
       "VALUE              0\n",
       "SHIPWT             0\n",
       "FREIGHT_CHARGES    0\n",
       "DF                 0\n",
       "CONTCODE           0\n",
       "MONTH              0\n",
       "YEAR               0\n",
       "source_file        0\n",
       "COMMODITY2         0\n",
       "dtype: int64"
      ]
     },
     "execution_count": 29,
     "metadata": {},
     "output_type": "execute_result"
    }
   ],
   "source": [
    "# checking again for NaNs to be sure they have been worked on\n",
    "TFDA_2023.isnull().sum()"
   ]
  },
  {
   "cell_type": "code",
   "execution_count": 31,
   "id": "964f65cc-9127-4fe0-b58c-e45df4898df4",
   "metadata": {},
   "outputs": [
    {
     "data": {
      "text/html": [
       "<div>\n",
       "<style scoped>\n",
       "    .dataframe tbody tr th:only-of-type {\n",
       "        vertical-align: middle;\n",
       "    }\n",
       "\n",
       "    .dataframe tbody tr th {\n",
       "        vertical-align: top;\n",
       "    }\n",
       "\n",
       "    .dataframe thead th {\n",
       "        text-align: right;\n",
       "    }\n",
       "</style>\n",
       "<table border=\"1\" class=\"dataframe\">\n",
       "  <thead>\n",
       "    <tr style=\"text-align: right;\">\n",
       "      <th></th>\n",
       "      <th>TRDTYPE</th>\n",
       "      <th>DISAGMOT</th>\n",
       "      <th>COUNTRY</th>\n",
       "      <th>VALUE</th>\n",
       "      <th>SHIPWT</th>\n",
       "      <th>FREIGHT_CHARGES</th>\n",
       "      <th>DF</th>\n",
       "      <th>MONTH</th>\n",
       "      <th>YEAR</th>\n",
       "      <th>COMMODITY2</th>\n",
       "    </tr>\n",
       "  </thead>\n",
       "  <tbody>\n",
       "    <tr>\n",
       "      <th>count</th>\n",
       "      <td>5.068704e+06</td>\n",
       "      <td>5.068704e+06</td>\n",
       "      <td>5.068704e+06</td>\n",
       "      <td>5.068704e+06</td>\n",
       "      <td>5.068704e+06</td>\n",
       "      <td>5.068704e+06</td>\n",
       "      <td>5.068704e+06</td>\n",
       "      <td>5.068704e+06</td>\n",
       "      <td>5068704.0</td>\n",
       "      <td>5.068704e+06</td>\n",
       "    </tr>\n",
       "    <tr>\n",
       "      <th>mean</th>\n",
       "      <td>1.389754e+00</td>\n",
       "      <td>4.736809e+00</td>\n",
       "      <td>1.523908e+03</td>\n",
       "      <td>3.163571e+06</td>\n",
       "      <td>1.319163e+06</td>\n",
       "      <td>4.476677e+04</td>\n",
       "      <td>8.144571e-01</td>\n",
       "      <td>4.146702e+00</td>\n",
       "      <td>2023.0</td>\n",
       "      <td>6.130545e+01</td>\n",
       "    </tr>\n",
       "    <tr>\n",
       "      <th>std</th>\n",
       "      <td>4.876945e-01</td>\n",
       "      <td>1.234557e+00</td>\n",
       "      <td>3.843532e+02</td>\n",
       "      <td>4.166920e+07</td>\n",
       "      <td>4.680685e+07</td>\n",
       "      <td>1.289883e+06</td>\n",
       "      <td>7.480240e-01</td>\n",
       "      <td>2.777258e+00</td>\n",
       "      <td>0.0</td>\n",
       "      <td>2.920467e+01</td>\n",
       "    </tr>\n",
       "    <tr>\n",
       "      <th>min</th>\n",
       "      <td>1.000000e+00</td>\n",
       "      <td>1.000000e+00</td>\n",
       "      <td>1.220000e+03</td>\n",
       "      <td>2.000000e+00</td>\n",
       "      <td>0.000000e+00</td>\n",
       "      <td>0.000000e+00</td>\n",
       "      <td>0.000000e+00</td>\n",
       "      <td>1.000000e+00</td>\n",
       "      <td>2023.0</td>\n",
       "      <td>1.000000e+00</td>\n",
       "    </tr>\n",
       "    <tr>\n",
       "      <th>25%</th>\n",
       "      <td>1.000000e+00</td>\n",
       "      <td>5.000000e+00</td>\n",
       "      <td>1.220000e+03</td>\n",
       "      <td>1.433300e+04</td>\n",
       "      <td>0.000000e+00</td>\n",
       "      <td>0.000000e+00</td>\n",
       "      <td>0.000000e+00</td>\n",
       "      <td>2.000000e+00</td>\n",
       "      <td>2023.0</td>\n",
       "      <td>3.800000e+01</td>\n",
       "    </tr>\n",
       "    <tr>\n",
       "      <th>50%</th>\n",
       "      <td>1.000000e+00</td>\n",
       "      <td>5.000000e+00</td>\n",
       "      <td>1.220000e+03</td>\n",
       "      <td>7.398600e+04</td>\n",
       "      <td>0.000000e+00</td>\n",
       "      <td>3.240000e+02</td>\n",
       "      <td>1.000000e+00</td>\n",
       "      <td>4.000000e+00</td>\n",
       "      <td>2023.0</td>\n",
       "      <td>6.900000e+01</td>\n",
       "    </tr>\n",
       "    <tr>\n",
       "      <th>75%</th>\n",
       "      <td>2.000000e+00</td>\n",
       "      <td>5.000000e+00</td>\n",
       "      <td>2.010000e+03</td>\n",
       "      <td>4.462872e+05</td>\n",
       "      <td>5.336000e+03</td>\n",
       "      <td>3.225000e+03</td>\n",
       "      <td>1.000000e+00</td>\n",
       "      <td>6.000000e+00</td>\n",
       "      <td>2023.0</td>\n",
       "      <td>8.700000e+01</td>\n",
       "    </tr>\n",
       "    <tr>\n",
       "      <th>max</th>\n",
       "      <td>2.000000e+00</td>\n",
       "      <td>9.000000e+00</td>\n",
       "      <td>2.010000e+03</td>\n",
       "      <td>4.467612e+09</td>\n",
       "      <td>9.068700e+09</td>\n",
       "      <td>2.487214e+08</td>\n",
       "      <td>2.000000e+00</td>\n",
       "      <td>1.200000e+01</td>\n",
       "      <td>2023.0</td>\n",
       "      <td>9.900000e+01</td>\n",
       "    </tr>\n",
       "  </tbody>\n",
       "</table>\n",
       "</div>"
      ],
      "text/plain": [
       "            TRDTYPE      DISAGMOT       COUNTRY         VALUE        SHIPWT  \\\n",
       "count  5.068704e+06  5.068704e+06  5.068704e+06  5.068704e+06  5.068704e+06   \n",
       "mean   1.389754e+00  4.736809e+00  1.523908e+03  3.163571e+06  1.319163e+06   \n",
       "std    4.876945e-01  1.234557e+00  3.843532e+02  4.166920e+07  4.680685e+07   \n",
       "min    1.000000e+00  1.000000e+00  1.220000e+03  2.000000e+00  0.000000e+00   \n",
       "25%    1.000000e+00  5.000000e+00  1.220000e+03  1.433300e+04  0.000000e+00   \n",
       "50%    1.000000e+00  5.000000e+00  1.220000e+03  7.398600e+04  0.000000e+00   \n",
       "75%    2.000000e+00  5.000000e+00  2.010000e+03  4.462872e+05  5.336000e+03   \n",
       "max    2.000000e+00  9.000000e+00  2.010000e+03  4.467612e+09  9.068700e+09   \n",
       "\n",
       "       FREIGHT_CHARGES            DF         MONTH       YEAR    COMMODITY2  \n",
       "count     5.068704e+06  5.068704e+06  5.068704e+06  5068704.0  5.068704e+06  \n",
       "mean      4.476677e+04  8.144571e-01  4.146702e+00     2023.0  6.130545e+01  \n",
       "std       1.289883e+06  7.480240e-01  2.777258e+00        0.0  2.920467e+01  \n",
       "min       0.000000e+00  0.000000e+00  1.000000e+00     2023.0  1.000000e+00  \n",
       "25%       0.000000e+00  0.000000e+00  2.000000e+00     2023.0  3.800000e+01  \n",
       "50%       3.240000e+02  1.000000e+00  4.000000e+00     2023.0  6.900000e+01  \n",
       "75%       3.225000e+03  1.000000e+00  6.000000e+00     2023.0  8.700000e+01  \n",
       "max       2.487214e+08  2.000000e+00  1.200000e+01     2023.0  9.900000e+01  "
      ]
     },
     "execution_count": 31,
     "metadata": {},
     "output_type": "execute_result"
    }
   ],
   "source": [
    "# Summary statistics\n",
    "TFDA_2023.describe()"
   ]
  },
  {
   "cell_type": "code",
   "execution_count": 33,
   "id": "a92f135a-7903-4581-a428-6466233a229e",
   "metadata": {},
   "outputs": [
    {
     "data": {
      "text/plain": [
       "(5068704, 16)"
      ]
     },
     "execution_count": 33,
     "metadata": {},
     "output_type": "execute_result"
    }
   ],
   "source": [
    "TFDA_2023.shape"
   ]
  },
  {
   "cell_type": "code",
   "execution_count": 37,
   "id": "89779675-4133-4ffe-ac57-ae8c90212790",
   "metadata": {},
   "outputs": [],
   "source": [
    "TFDA_2023.to_csv(\"TFDA_2023_cleaned.csv\", index=False, encoding='utf-8-sig')"
   ]
  },
  {
   "cell_type": "code",
   "execution_count": null,
   "id": "b7327abf-1dd5-4983-b3d6-4d4a1c3d4abb",
   "metadata": {},
   "outputs": [],
   "source": []
  }
 ],
 "metadata": {
  "kernelspec": {
   "display_name": "Python [conda env:base] *",
   "language": "python",
   "name": "conda-base-py"
  },
  "language_info": {
   "codemirror_mode": {
    "name": "ipython",
    "version": 3
   },
   "file_extension": ".py",
   "mimetype": "text/x-python",
   "name": "python",
   "nbconvert_exporter": "python",
   "pygments_lexer": "ipython3",
   "version": "3.12.7"
  }
 },
 "nbformat": 4,
 "nbformat_minor": 5
}
