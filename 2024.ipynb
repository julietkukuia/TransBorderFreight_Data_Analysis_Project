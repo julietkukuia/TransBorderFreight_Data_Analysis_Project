{
 "cells": [
  {
   "cell_type": "code",
   "execution_count": 1,
   "id": "bab30a96-d96a-4a68-b23b-0610d752d718",
   "metadata": {},
   "outputs": [],
   "source": [
    "# import the libraries\n",
    "import numpy as np\n",
    "import pandas as pd\n",
    "import matplotlib.pyplot as plt\n",
    "import seaborn as sns\n",
    "import os\n",
    "import warnings\n",
    "warnings.filterwarnings('ignore')"
   ]
  },
  {
   "cell_type": "code",
   "execution_count": 3,
   "id": "444e0c07-aecb-4233-bbfe-e79c4931a926",
   "metadata": {},
   "outputs": [
    {
     "name": "stdout",
     "output_type": "stream",
     "text": [
      "🗂 Found 26 CSV files.\n",
      "✅ Loaded: dot1_0124.csv\n",
      "✅ Loaded: dot1_0224.csv\n",
      "✅ Loaded: dot1_0324.csv\n",
      "✅ Loaded: dot1_0424.csv\n",
      "✅ Loaded: dot1_0524.csv\n",
      "✅ Loaded: dot1_0624.csv\n",
      "✅ Loaded: dot1_0724.csv\n",
      "✅ Loaded: dot1_0824.csv\n",
      "✅ Loaded: dot1_0924.csv\n",
      "✅ Loaded: dot2_0124.csv\n",
      "✅ Loaded: dot2_0224.csv\n",
      "✅ Loaded: dot2_0324.csv\n",
      "✅ Loaded: dot2_0424.csv\n",
      "✅ Loaded: dot2_0524.csv\n",
      "✅ Loaded: dot2_0624.csv\n",
      "✅ Loaded: dot2_0724.csv\n",
      "✅ Loaded: dot2_0824.csv\n",
      "✅ Loaded: dot2_0924.csv\n",
      "✅ Loaded: dot3_0124.csv\n",
      "✅ Loaded: dot3_0224.csv\n",
      "✅ Loaded: dot3_0424.csv\n",
      "✅ Loaded: dot3_0524.csv\n",
      "✅ Loaded: dot3_0624.csv\n",
      "✅ Loaded: dot3_0724.csv\n",
      "✅ Loaded: dot3_0824.csv\n",
      "✅ Loaded: dot3_0924.csv\n",
      "✅ Successfully merged 26 DataFrames.\n",
      "📁 Merged CSV saved to: C:\\Users\\Dell\\OneDrive\\Desktop\\Project 1\\2024\\2024_merged_freight_data.csv\n"
     ]
    }
   ],
   "source": [
    "# 🔹 1. Define your folder path (use raw string to avoid Windows escape errors)\n",
    "csv_dir = r\"C:\\Users\\Dell\\OneDrive\\Desktop\\Project 1\\2024\"\n",
    "\n",
    "# 🔹 2. Get all .csv files in the folder\n",
    "csv_files = [file for file in os.listdir(csv_dir) if file.endswith(\".csv\")]\n",
    "print(f\"🗂 Found {len(csv_files)} CSV files.\")\n",
    "\n",
    "# 🔹 3. Create a list to hold individual DataFrames\n",
    "dataframes = []\n",
    "\n",
    "# 🔹 4. Loop through files, read them, and append to the list\n",
    "for file in csv_files:\n",
    "    file_path = os.path.join(csv_dir, file)\n",
    "    \n",
    "    try:\n",
    "        df = pd.read_csv(file_path)\n",
    "        df['source_file'] = file  # Optional: Track which file each row came from\n",
    "        dataframes.append(df)\n",
    "        print(f\"✅ Loaded: {file}\")\n",
    "    except Exception as e:\n",
    "        print(f\"⚠️ Could not read {file}: {e}\")\n",
    "\n",
    "# 🔹 5. Concatenate all loaded DataFrames\n",
    "if dataframes:\n",
    "    merged_df = pd.concat(dataframes, ignore_index=True)\n",
    "    print(f\"✅ Successfully merged {len(dataframes)} DataFrames.\")\n",
    "else:\n",
    "    print(\"❌ No DataFrames loaded. Check file formats or folder path.\")\n",
    "\n",
    "# 🔹 6. (Optional) Preview and save the merged result\n",
    "merged_df.head()  # Preview first 5 rows\n",
    "\n",
    "# 🔹 7. Save to disk\n",
    "output_path = os.path.join(csv_dir, \"2024_merged_freight_data.csv\")\n",
    "merged_df.to_csv(output_path, index=False)\n",
    "print(f\"📁 Merged CSV saved to: {output_path}\")\n"
   ]
  },
  {
   "cell_type": "code",
   "execution_count": 5,
   "id": "ed64001a-95cb-4023-918b-3a4236dbcc85",
   "metadata": {},
   "outputs": [
    {
     "data": {
      "text/html": [
       "<div>\n",
       "<style scoped>\n",
       "    .dataframe tbody tr th:only-of-type {\n",
       "        vertical-align: middle;\n",
       "    }\n",
       "\n",
       "    .dataframe tbody tr th {\n",
       "        vertical-align: top;\n",
       "    }\n",
       "\n",
       "    .dataframe thead th {\n",
       "        text-align: right;\n",
       "    }\n",
       "</style>\n",
       "<table border=\"1\" class=\"dataframe\">\n",
       "  <thead>\n",
       "    <tr style=\"text-align: right;\">\n",
       "      <th></th>\n",
       "      <th>TRDTYPE</th>\n",
       "      <th>USASTATE</th>\n",
       "      <th>DEPE</th>\n",
       "      <th>DISAGMOT</th>\n",
       "      <th>MEXSTATE</th>\n",
       "      <th>CANPROV</th>\n",
       "      <th>COUNTRY</th>\n",
       "      <th>VALUE</th>\n",
       "      <th>SHIPWT</th>\n",
       "      <th>FREIGHT_CHARGES</th>\n",
       "      <th>DF</th>\n",
       "      <th>CONTCODE</th>\n",
       "      <th>MONTH</th>\n",
       "      <th>YEAR</th>\n",
       "      <th>source_file</th>\n",
       "      <th>COMMODITY2</th>\n",
       "    </tr>\n",
       "  </thead>\n",
       "  <tbody>\n",
       "    <tr>\n",
       "      <th>0</th>\n",
       "      <td>1</td>\n",
       "      <td>AK</td>\n",
       "      <td>0708</td>\n",
       "      <td>5</td>\n",
       "      <td>NaN</td>\n",
       "      <td>XO</td>\n",
       "      <td>1220</td>\n",
       "      <td>24865</td>\n",
       "      <td>0</td>\n",
       "      <td>74</td>\n",
       "      <td>2.0</td>\n",
       "      <td>X</td>\n",
       "      <td>1</td>\n",
       "      <td>2024</td>\n",
       "      <td>dot1_0124.csv</td>\n",
       "      <td>NaN</td>\n",
       "    </tr>\n",
       "    <tr>\n",
       "      <th>1</th>\n",
       "      <td>1</td>\n",
       "      <td>AK</td>\n",
       "      <td>0712</td>\n",
       "      <td>5</td>\n",
       "      <td>NaN</td>\n",
       "      <td>XM</td>\n",
       "      <td>1220</td>\n",
       "      <td>9990</td>\n",
       "      <td>0</td>\n",
       "      <td>1</td>\n",
       "      <td>1.0</td>\n",
       "      <td>X</td>\n",
       "      <td>1</td>\n",
       "      <td>2024</td>\n",
       "      <td>dot1_0124.csv</td>\n",
       "      <td>NaN</td>\n",
       "    </tr>\n",
       "    <tr>\n",
       "      <th>2</th>\n",
       "      <td>1</td>\n",
       "      <td>AK</td>\n",
       "      <td>0901</td>\n",
       "      <td>5</td>\n",
       "      <td>NaN</td>\n",
       "      <td>XO</td>\n",
       "      <td>1220</td>\n",
       "      <td>20374</td>\n",
       "      <td>0</td>\n",
       "      <td>392</td>\n",
       "      <td>1.0</td>\n",
       "      <td>X</td>\n",
       "      <td>1</td>\n",
       "      <td>2024</td>\n",
       "      <td>dot1_0124.csv</td>\n",
       "      <td>NaN</td>\n",
       "    </tr>\n",
       "    <tr>\n",
       "      <th>3</th>\n",
       "      <td>1</td>\n",
       "      <td>AK</td>\n",
       "      <td>2006</td>\n",
       "      <td>3</td>\n",
       "      <td>NaN</td>\n",
       "      <td>XC</td>\n",
       "      <td>1220</td>\n",
       "      <td>12373</td>\n",
       "      <td>39</td>\n",
       "      <td>236</td>\n",
       "      <td>1.0</td>\n",
       "      <td>X</td>\n",
       "      <td>1</td>\n",
       "      <td>2024</td>\n",
       "      <td>dot1_0124.csv</td>\n",
       "      <td>NaN</td>\n",
       "    </tr>\n",
       "    <tr>\n",
       "      <th>4</th>\n",
       "      <td>1</td>\n",
       "      <td>AK</td>\n",
       "      <td>20XX</td>\n",
       "      <td>3</td>\n",
       "      <td>NaN</td>\n",
       "      <td>XA</td>\n",
       "      <td>1220</td>\n",
       "      <td>40263</td>\n",
       "      <td>1822</td>\n",
       "      <td>408</td>\n",
       "      <td>1.0</td>\n",
       "      <td>X</td>\n",
       "      <td>1</td>\n",
       "      <td>2024</td>\n",
       "      <td>dot1_0124.csv</td>\n",
       "      <td>NaN</td>\n",
       "    </tr>\n",
       "  </tbody>\n",
       "</table>\n",
       "</div>"
      ],
      "text/plain": [
       "   TRDTYPE USASTATE  DEPE  DISAGMOT MEXSTATE CANPROV  COUNTRY  VALUE  SHIPWT  \\\n",
       "0        1       AK  0708         5      NaN      XO     1220  24865       0   \n",
       "1        1       AK  0712         5      NaN      XM     1220   9990       0   \n",
       "2        1       AK  0901         5      NaN      XO     1220  20374       0   \n",
       "3        1       AK  2006         3      NaN      XC     1220  12373      39   \n",
       "4        1       AK  20XX         3      NaN      XA     1220  40263    1822   \n",
       "\n",
       "   FREIGHT_CHARGES   DF CONTCODE  MONTH  YEAR    source_file  COMMODITY2  \n",
       "0               74  2.0        X      1  2024  dot1_0124.csv         NaN  \n",
       "1                1  1.0        X      1  2024  dot1_0124.csv         NaN  \n",
       "2              392  1.0        X      1  2024  dot1_0124.csv         NaN  \n",
       "3              236  1.0        X      1  2024  dot1_0124.csv         NaN  \n",
       "4              408  1.0        X      1  2024  dot1_0124.csv         NaN  "
      ]
     },
     "execution_count": 5,
     "metadata": {},
     "output_type": "execute_result"
    }
   ],
   "source": [
    "# Use the same path you saved to\n",
    "merged_path = r\"C:\\Users\\Dell\\OneDrive\\Desktop\\Project 1\\2024\\2024_merged_freight_data.csv\"\n",
    "\n",
    "# Load the CSV into a new DataFrame\n",
    "TFDA_2024 = pd.read_csv(merged_path)\n",
    "\n",
    "# Preview the first 5 rows\n",
    "TFDA_2024.head()\n"
   ]
  },
  {
   "cell_type": "markdown",
   "id": "75785cff-465d-44ee-9073-1c1bb2a8a965",
   "metadata": {},
   "source": [
    "### Understanding the dataset"
   ]
  },
  {
   "cell_type": "code",
   "execution_count": 8,
   "id": "2e8e6ba7-9725-477b-9525-371142a0f7c8",
   "metadata": {},
   "outputs": [
    {
     "name": "stdout",
     "output_type": "stream",
     "text": [
      "<class 'pandas.core.frame.DataFrame'>\n",
      "RangeIndex: 1108543 entries, 0 to 1108542\n",
      "Data columns (total 16 columns):\n",
      " #   Column           Non-Null Count    Dtype  \n",
      "---  ------           --------------    -----  \n",
      " 0   TRDTYPE          1108543 non-null  int64  \n",
      " 1   USASTATE         969546 non-null   object \n",
      " 2   DEPE             400100 non-null   object \n",
      " 3   DISAGMOT         1108543 non-null  int64  \n",
      " 4   MEXSTATE         329537 non-null   object \n",
      " 5   CANPROV          577941 non-null   object \n",
      " 6   COUNTRY          1108543 non-null  int64  \n",
      " 7   VALUE            1108543 non-null  int64  \n",
      " 8   SHIPWT           1108543 non-null  int64  \n",
      " 9   FREIGHT_CHARGES  1108543 non-null  int64  \n",
      " 10  DF               744242 non-null   float64\n",
      " 11  CONTCODE         1108543 non-null  object \n",
      " 12  MONTH            1108543 non-null  int64  \n",
      " 13  YEAR             1108543 non-null  int64  \n",
      " 14  source_file      1108543 non-null  object \n",
      " 15  COMMODITY2       847440 non-null   float64\n",
      "dtypes: float64(2), int64(8), object(6)\n",
      "memory usage: 135.3+ MB\n"
     ]
    }
   ],
   "source": [
    "# Quick overview\n",
    "TFDA_2024.info()"
   ]
  },
  {
   "cell_type": "code",
   "execution_count": 10,
   "id": "bcd8dfbe-4e30-47ff-bc9d-d7c916a7c44c",
   "metadata": {},
   "outputs": [
    {
     "data": {
      "text/plain": [
       "(1108543, 16)"
      ]
     },
     "execution_count": 10,
     "metadata": {},
     "output_type": "execute_result"
    }
   ],
   "source": [
    "# checking the shape of the dataset\n",
    "TFDA_2024.shape"
   ]
  },
  {
   "cell_type": "code",
   "execution_count": 12,
   "id": "eb05992e-0701-4cdd-978c-90b0307a8055",
   "metadata": {},
   "outputs": [
    {
     "data": {
      "text/plain": [
       "Index(['TRDTYPE', 'USASTATE', 'DEPE', 'DISAGMOT', 'MEXSTATE', 'CANPROV',\n",
       "       'COUNTRY', 'VALUE', 'SHIPWT', 'FREIGHT_CHARGES', 'DF', 'CONTCODE',\n",
       "       'MONTH', 'YEAR', 'source_file', 'COMMODITY2'],\n",
       "      dtype='object')"
      ]
     },
     "execution_count": 12,
     "metadata": {},
     "output_type": "execute_result"
    }
   ],
   "source": [
    "# checking the various columns\n",
    "TFDA_2024.columns"
   ]
  },
  {
   "cell_type": "markdown",
   "id": "94607d1e-0ba3-4e56-a1b0-d2b3b982612a",
   "metadata": {},
   "source": [
    "### Data Cleaning "
   ]
  },
  {
   "cell_type": "code",
   "execution_count": 17,
   "id": "a383c12b-7db7-4aec-8db5-c35c49be9a47",
   "metadata": {},
   "outputs": [
    {
     "data": {
      "text/plain": [
       "array([1, 2], dtype=int64)"
      ]
     },
     "execution_count": 17,
     "metadata": {},
     "output_type": "execute_result"
    }
   ],
   "source": [
    "TFDA_2024['TRDTYPE'].unique()"
   ]
  },
  {
   "cell_type": "code",
   "execution_count": 19,
   "id": "f02d9015-6eda-4c43-af88-3845fc8c5a2b",
   "metadata": {},
   "outputs": [
    {
     "data": {
      "text/plain": [
       "TRDTYPE\n",
       "1    744242\n",
       "2    364301\n",
       "Name: count, dtype: int64"
      ]
     },
     "execution_count": 19,
     "metadata": {},
     "output_type": "execute_result"
    }
   ],
   "source": [
    "# See the distribution of values in TRDTYPE\n",
    "TFDA_2024['TRDTYPE'].value_counts(dropna=False)"
   ]
  },
  {
   "cell_type": "code",
   "execution_count": 21,
   "id": "96caa7b9-4b50-48f7-b563-6f2bcd1ad105",
   "metadata": {},
   "outputs": [],
   "source": [
    "# Fill categorical columns with placeholders\n",
    "TFDA_2024['USASTATE'] = TFDA_2024['USASTATE'].fillna('UNKNOWN')\n",
    "TFDA_2024['DEPE'] = TFDA_2024['DEPE'].fillna('0000')\n",
    "TFDA_2024['MEXSTATE'] = TFDA_2024['MEXSTATE'].fillna('OT')         # 'OT' = State Unknown\n",
    "TFDA_2024['CANPROV'] = TFDA_2024['CANPROV'].fillna('OT')           # 'OT' = Province Unknown\n"
   ]
  },
  {
   "cell_type": "code",
   "execution_count": 23,
   "id": "bb8b79be-58e7-47b7-b73f-24a0f5f70580",
   "metadata": {},
   "outputs": [
    {
     "name": "stdout",
     "output_type": "stream",
     "text": [
      "TRDTYPE\n",
      "1    579591\n",
      "2    364301\n",
      "Name: count, dtype: int64\n"
     ]
    }
   ],
   "source": [
    "# Isolate all TRDTYPE == 2 rows (protect them)\n",
    "trdtype_2_rows = TFDA_2024[TFDA_2024['TRDTYPE'] == 2]\n",
    "\n",
    "# Clean the rest of the dataset (excluding TRDTYPE == 2)\n",
    "other_rows = TFDA_2024[TFDA_2024['TRDTYPE'] != 2]\n",
    "cleaned_other_rows = other_rows.dropna(subset=['DEPE', 'COMMODITY2', 'DF'])\n",
    "\n",
    "# Combine cleaned rows and protected TRDTYPE==2 rows\n",
    "TFDA_2024_cleaned = pd.concat([cleaned_other_rows, trdtype_2_rows], ignore_index=True)\n",
    "\n",
    "# Reset index\n",
    "TFDA_2024_cleaned.reset_index(drop=True, inplace=True)\n",
    "\n",
    "# Confirm TRDTYPE distribution\n",
    "print(TFDA_2024_cleaned['TRDTYPE'].value_counts(dropna=False))\n",
    "\n",
    "# reassign to main variable\n",
    "TFDA_2024 = TFDA_2024_cleaned"
   ]
  },
  {
   "cell_type": "code",
   "execution_count": 25,
   "id": "d43f91ec-59d9-4b9e-a1da-b87d3ee8bb45",
   "metadata": {},
   "outputs": [],
   "source": [
    "# Fill numeric columns with zeros or neutral values\n",
    "TFDA_2024['DF'] = TFDA_2024['DF'].fillna(0).astype(int)\n",
    "TFDA_2024['COMMODITY2'] = TFDA_2024['COMMODITY2'].fillna(99).astype(int)"
   ]
  },
  {
   "cell_type": "code",
   "execution_count": 27,
   "id": "90f0d197-8e1b-4ced-90af-f8cbacc45d22",
   "metadata": {},
   "outputs": [
    {
     "data": {
      "text/plain": [
       "TRDTYPE             int64\n",
       "USASTATE           object\n",
       "DEPE               object\n",
       "DISAGMOT            int64\n",
       "MEXSTATE           object\n",
       "CANPROV            object\n",
       "COUNTRY             int64\n",
       "VALUE               int64\n",
       "SHIPWT              int64\n",
       "FREIGHT_CHARGES     int64\n",
       "DF                  int32\n",
       "CONTCODE           object\n",
       "MONTH               int64\n",
       "YEAR                int64\n",
       "source_file        object\n",
       "COMMODITY2          int32\n",
       "dtype: object"
      ]
     },
     "execution_count": 27,
     "metadata": {},
     "output_type": "execute_result"
    }
   ],
   "source": [
    "TFDA_2024.dtypes"
   ]
  },
  {
   "cell_type": "code",
   "execution_count": 29,
   "id": "11958a44-ab63-46c2-a929-2c45c7d4f454",
   "metadata": {},
   "outputs": [
    {
     "data": {
      "text/plain": [
       "0"
      ]
     },
     "execution_count": 29,
     "metadata": {},
     "output_type": "execute_result"
    }
   ],
   "source": [
    "TFDA_2024.duplicated().sum()"
   ]
  },
  {
   "cell_type": "code",
   "execution_count": 31,
   "id": "673769be-d7f3-4669-8f54-e7f8684b2fc8",
   "metadata": {},
   "outputs": [
    {
     "data": {
      "text/plain": [
       "TRDTYPE            0\n",
       "USASTATE           0\n",
       "DEPE               0\n",
       "DISAGMOT           0\n",
       "MEXSTATE           0\n",
       "CANPROV            0\n",
       "COUNTRY            0\n",
       "VALUE              0\n",
       "SHIPWT             0\n",
       "FREIGHT_CHARGES    0\n",
       "DF                 0\n",
       "CONTCODE           0\n",
       "MONTH              0\n",
       "YEAR               0\n",
       "source_file        0\n",
       "COMMODITY2         0\n",
       "dtype: int64"
      ]
     },
     "execution_count": 31,
     "metadata": {},
     "output_type": "execute_result"
    }
   ],
   "source": [
    "# checking for NaNs in the dataset\n",
    "TFDA_2024.isnull().sum()"
   ]
  },
  {
   "cell_type": "code",
   "execution_count": 33,
   "id": "964f65cc-9127-4fe0-b58c-e45df4898df4",
   "metadata": {},
   "outputs": [
    {
     "data": {
      "text/html": [
       "<div>\n",
       "<style scoped>\n",
       "    .dataframe tbody tr th:only-of-type {\n",
       "        vertical-align: middle;\n",
       "    }\n",
       "\n",
       "    .dataframe tbody tr th {\n",
       "        vertical-align: top;\n",
       "    }\n",
       "\n",
       "    .dataframe thead th {\n",
       "        text-align: right;\n",
       "    }\n",
       "</style>\n",
       "<table border=\"1\" class=\"dataframe\">\n",
       "  <thead>\n",
       "    <tr style=\"text-align: right;\">\n",
       "      <th></th>\n",
       "      <th>TRDTYPE</th>\n",
       "      <th>DISAGMOT</th>\n",
       "      <th>COUNTRY</th>\n",
       "      <th>VALUE</th>\n",
       "      <th>SHIPWT</th>\n",
       "      <th>FREIGHT_CHARGES</th>\n",
       "      <th>DF</th>\n",
       "      <th>MONTH</th>\n",
       "      <th>YEAR</th>\n",
       "      <th>COMMODITY2</th>\n",
       "    </tr>\n",
       "  </thead>\n",
       "  <tbody>\n",
       "    <tr>\n",
       "      <th>count</th>\n",
       "      <td>943892.000000</td>\n",
       "      <td>943892.000000</td>\n",
       "      <td>943892.000000</td>\n",
       "      <td>9.438920e+05</td>\n",
       "      <td>9.438920e+05</td>\n",
       "      <td>9.438920e+05</td>\n",
       "      <td>943892.000000</td>\n",
       "      <td>943892.000000</td>\n",
       "      <td>943892.0</td>\n",
       "      <td>943892.000000</td>\n",
       "    </tr>\n",
       "    <tr>\n",
       "      <th>mean</th>\n",
       "      <td>1.385956</td>\n",
       "      <td>4.738033</td>\n",
       "      <td>1530.130566</td>\n",
       "      <td>3.140772e+06</td>\n",
       "      <td>1.280400e+06</td>\n",
       "      <td>3.992218e+04</td>\n",
       "      <td>0.820197</td>\n",
       "      <td>5.050580</td>\n",
       "      <td>2024.0</td>\n",
       "      <td>61.381021</td>\n",
       "    </tr>\n",
       "    <tr>\n",
       "      <th>std</th>\n",
       "      <td>0.486821</td>\n",
       "      <td>1.224175</td>\n",
       "      <td>385.774982</td>\n",
       "      <td>4.484136e+07</td>\n",
       "      <td>4.477908e+07</td>\n",
       "      <td>1.160656e+06</td>\n",
       "      <td>0.748185</td>\n",
       "      <td>2.576271</td>\n",
       "      <td>0.0</td>\n",
       "      <td>29.185375</td>\n",
       "    </tr>\n",
       "    <tr>\n",
       "      <th>min</th>\n",
       "      <td>1.000000</td>\n",
       "      <td>1.000000</td>\n",
       "      <td>1220.000000</td>\n",
       "      <td>0.000000e+00</td>\n",
       "      <td>0.000000e+00</td>\n",
       "      <td>0.000000e+00</td>\n",
       "      <td>0.000000</td>\n",
       "      <td>1.000000</td>\n",
       "      <td>2024.0</td>\n",
       "      <td>1.000000</td>\n",
       "    </tr>\n",
       "    <tr>\n",
       "      <th>25%</th>\n",
       "      <td>1.000000</td>\n",
       "      <td>5.000000</td>\n",
       "      <td>1220.000000</td>\n",
       "      <td>1.424800e+04</td>\n",
       "      <td>0.000000e+00</td>\n",
       "      <td>0.000000e+00</td>\n",
       "      <td>0.000000</td>\n",
       "      <td>3.000000</td>\n",
       "      <td>2024.0</td>\n",
       "      <td>38.000000</td>\n",
       "    </tr>\n",
       "    <tr>\n",
       "      <th>50%</th>\n",
       "      <td>1.000000</td>\n",
       "      <td>5.000000</td>\n",
       "      <td>1220.000000</td>\n",
       "      <td>7.305250e+04</td>\n",
       "      <td>0.000000e+00</td>\n",
       "      <td>3.000000e+02</td>\n",
       "      <td>1.000000</td>\n",
       "      <td>5.000000</td>\n",
       "      <td>2024.0</td>\n",
       "      <td>69.000000</td>\n",
       "    </tr>\n",
       "    <tr>\n",
       "      <th>75%</th>\n",
       "      <td>2.000000</td>\n",
       "      <td>5.000000</td>\n",
       "      <td>2010.000000</td>\n",
       "      <td>4.399920e+05</td>\n",
       "      <td>4.499000e+03</td>\n",
       "      <td>3.025000e+03</td>\n",
       "      <td>1.000000</td>\n",
       "      <td>7.000000</td>\n",
       "      <td>2024.0</td>\n",
       "      <td>87.000000</td>\n",
       "    </tr>\n",
       "    <tr>\n",
       "      <th>max</th>\n",
       "      <td>2.000000</td>\n",
       "      <td>9.000000</td>\n",
       "      <td>2010.000000</td>\n",
       "      <td>5.595625e+09</td>\n",
       "      <td>8.729049e+09</td>\n",
       "      <td>2.389452e+08</td>\n",
       "      <td>2.000000</td>\n",
       "      <td>9.000000</td>\n",
       "      <td>2024.0</td>\n",
       "      <td>99.000000</td>\n",
       "    </tr>\n",
       "  </tbody>\n",
       "</table>\n",
       "</div>"
      ],
      "text/plain": [
       "             TRDTYPE       DISAGMOT        COUNTRY         VALUE  \\\n",
       "count  943892.000000  943892.000000  943892.000000  9.438920e+05   \n",
       "mean        1.385956       4.738033    1530.130566  3.140772e+06   \n",
       "std         0.486821       1.224175     385.774982  4.484136e+07   \n",
       "min         1.000000       1.000000    1220.000000  0.000000e+00   \n",
       "25%         1.000000       5.000000    1220.000000  1.424800e+04   \n",
       "50%         1.000000       5.000000    1220.000000  7.305250e+04   \n",
       "75%         2.000000       5.000000    2010.000000  4.399920e+05   \n",
       "max         2.000000       9.000000    2010.000000  5.595625e+09   \n",
       "\n",
       "             SHIPWT  FREIGHT_CHARGES             DF          MONTH      YEAR  \\\n",
       "count  9.438920e+05     9.438920e+05  943892.000000  943892.000000  943892.0   \n",
       "mean   1.280400e+06     3.992218e+04       0.820197       5.050580    2024.0   \n",
       "std    4.477908e+07     1.160656e+06       0.748185       2.576271       0.0   \n",
       "min    0.000000e+00     0.000000e+00       0.000000       1.000000    2024.0   \n",
       "25%    0.000000e+00     0.000000e+00       0.000000       3.000000    2024.0   \n",
       "50%    0.000000e+00     3.000000e+02       1.000000       5.000000    2024.0   \n",
       "75%    4.499000e+03     3.025000e+03       1.000000       7.000000    2024.0   \n",
       "max    8.729049e+09     2.389452e+08       2.000000       9.000000    2024.0   \n",
       "\n",
       "          COMMODITY2  \n",
       "count  943892.000000  \n",
       "mean       61.381021  \n",
       "std        29.185375  \n",
       "min         1.000000  \n",
       "25%        38.000000  \n",
       "50%        69.000000  \n",
       "75%        87.000000  \n",
       "max        99.000000  "
      ]
     },
     "execution_count": 33,
     "metadata": {},
     "output_type": "execute_result"
    }
   ],
   "source": [
    "# Summary statistics\n",
    "TFDA_2024.describe()"
   ]
  },
  {
   "cell_type": "code",
   "execution_count": 35,
   "id": "a92f135a-7903-4581-a428-6466233a229e",
   "metadata": {},
   "outputs": [
    {
     "data": {
      "text/plain": [
       "(943892, 16)"
      ]
     },
     "execution_count": 35,
     "metadata": {},
     "output_type": "execute_result"
    }
   ],
   "source": [
    "TFDA_2024.shape"
   ]
  },
  {
   "cell_type": "code",
   "execution_count": null,
   "id": "89779675-4133-4ffe-ac57-ae8c90212790",
   "metadata": {},
   "outputs": [],
   "source": [
    "TFDA_2024.to_csv(\"TFDA_2024_cleaned.csv\", index=False, encoding='utf-8-sig')"
   ]
  },
  {
   "cell_type": "code",
   "execution_count": null,
   "id": "b7327abf-1dd5-4983-b3d6-4d4a1c3d4abb",
   "metadata": {},
   "outputs": [],
   "source": []
  }
 ],
 "metadata": {
  "kernelspec": {
   "display_name": "Python [conda env:base] *",
   "language": "python",
   "name": "conda-base-py"
  },
  "language_info": {
   "codemirror_mode": {
    "name": "ipython",
    "version": 3
   },
   "file_extension": ".py",
   "mimetype": "text/x-python",
   "name": "python",
   "nbconvert_exporter": "python",
   "pygments_lexer": "ipython3",
   "version": "3.12.7"
  }
 },
 "nbformat": 4,
 "nbformat_minor": 5
}
