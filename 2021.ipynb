{
 "cells": [
  {
   "cell_type": "code",
   "execution_count": 1,
   "id": "bab30a96-d96a-4a68-b23b-0610d752d718",
   "metadata": {},
   "outputs": [],
   "source": [
    "# import the libraries\n",
    "import numpy as np\n",
    "import pandas as pd\n",
    "import matplotlib.pyplot as plt\n",
    "import seaborn as sns\n",
    "import os\n",
    "import warnings\n",
    "warnings.filterwarnings('ignore')"
   ]
  },
  {
   "cell_type": "code",
   "execution_count": 3,
   "id": "444e0c07-aecb-4233-bbfe-e79c4931a926",
   "metadata": {},
   "outputs": [
    {
     "name": "stdout",
     "output_type": "stream",
     "text": [
      "🗂 Found 75 CSV files.\n",
      "✅ Loaded: dot1_0121.csv\n",
      "✅ Loaded: dot1_0221.csv\n",
      "✅ Loaded: dot1_0321.csv\n",
      "✅ Loaded: dot1_0421.csv\n",
      "✅ Loaded: dot1_0521.csv\n",
      "✅ Loaded: dot1_0621.csv\n",
      "✅ Loaded: dot1_0721.csv\n",
      "✅ Loaded: dot1_0821.csv\n",
      "✅ Loaded: dot1_0921.csv\n",
      "✅ Loaded: dot1_1021.csv\n",
      "✅ Loaded: dot1_1121.csv\n",
      "✅ Loaded: dot1_1221.csv\n",
      "✅ Loaded: dot1_2021.csv\n",
      "✅ Loaded: dot1_ytd_0121.csv\n",
      "✅ Loaded: dot1_ytd_0221.csv\n",
      "✅ Loaded: dot1_ytd_0321.csv\n",
      "✅ Loaded: dot1_ytd_0421.csv\n",
      "✅ Loaded: dot1_ytd_0521.csv\n",
      "✅ Loaded: dot1_ytd_0621.csv\n",
      "✅ Loaded: dot1_ytd_0721.csv\n",
      "✅ Loaded: dot1_ytd_0821.csv\n",
      "✅ Loaded: dot1_ytd_0921.csv\n",
      "✅ Loaded: dot1_ytd_1021.csv\n",
      "✅ Loaded: dot1_ytd_1121.csv\n",
      "✅ Loaded: dot1_ytd_1221.csv\n",
      "✅ Loaded: dot2_0121.csv\n",
      "✅ Loaded: dot2_0221.csv\n",
      "✅ Loaded: dot2_0321.csv\n",
      "✅ Loaded: dot2_0421.csv\n",
      "✅ Loaded: dot2_0521.csv\n",
      "✅ Loaded: dot2_0621.csv\n",
      "✅ Loaded: dot2_0721.csv\n",
      "✅ Loaded: dot2_0821.csv\n",
      "✅ Loaded: dot2_0921.csv\n",
      "✅ Loaded: dot2_1021.csv\n",
      "✅ Loaded: dot2_1121.csv\n",
      "✅ Loaded: dot2_1221.csv\n",
      "✅ Loaded: dot2_2021.csv\n",
      "✅ Loaded: dot2_ytd_0121.csv\n",
      "✅ Loaded: dot2_ytd_0221.csv\n",
      "✅ Loaded: dot2_ytd_0321.csv\n",
      "✅ Loaded: dot2_ytd_0421.csv\n",
      "✅ Loaded: dot2_ytd_0521.csv\n",
      "✅ Loaded: dot2_ytd_0621.csv\n",
      "✅ Loaded: dot2_ytd_0721.csv\n",
      "✅ Loaded: dot2_ytd_0821.csv\n",
      "✅ Loaded: dot2_ytd_0921.csv\n",
      "✅ Loaded: dot2_ytd_1021.csv\n",
      "✅ Loaded: dot2_ytd_1121.csv\n",
      "✅ Loaded: dot2_ytd_1221.csv\n",
      "✅ Loaded: dot3_0121.csv\n",
      "✅ Loaded: dot3_0221.csv\n",
      "✅ Loaded: dot3_0321.csv\n",
      "✅ Loaded: dot3_0421.csv\n",
      "✅ Loaded: dot3_0521.csv\n",
      "✅ Loaded: dot3_0621.csv\n",
      "✅ Loaded: dot3_0721.csv\n",
      "✅ Loaded: dot3_0821.csv\n",
      "✅ Loaded: dot3_0921.csv\n",
      "✅ Loaded: dot3_1021.csv\n",
      "✅ Loaded: dot3_1121.csv\n",
      "✅ Loaded: dot3_1221.csv\n",
      "✅ Loaded: dot3_2021.csv\n",
      "✅ Loaded: dot3_ytd_0121.csv\n",
      "✅ Loaded: dot3_ytd_0221.csv\n",
      "✅ Loaded: dot3_ytd_0321.csv\n",
      "✅ Loaded: dot3_ytd_0421.csv\n",
      "✅ Loaded: dot3_ytd_0521.csv\n",
      "✅ Loaded: dot3_ytd_0621.csv\n",
      "✅ Loaded: dot3_ytd_0721.csv\n",
      "✅ Loaded: dot3_ytd_0821.csv\n",
      "✅ Loaded: dot3_ytd_0921.csv\n",
      "✅ Loaded: dot3_ytd_1021.csv\n",
      "✅ Loaded: dot3_ytd_1121.csv\n",
      "✅ Loaded: dot3_ytd_1221.csv\n",
      "✅ Successfully merged 75 DataFrames.\n",
      "📁 Merged CSV saved to: C:\\Users\\Dell\\OneDrive\\Desktop\\Project 1\\2021\\2021_merged_freight_data.csv\n"
     ]
    }
   ],
   "source": [
    "\n",
    "# 🔹 1. Define your folder path (use raw string to avoid Windows escape errors)\n",
    "csv_dir = r\"C:\\Users\\Dell\\OneDrive\\Desktop\\Project 1\\2021\"\n",
    "\n",
    "# 🔹 2. Get all .csv files in the folder\n",
    "csv_files = [file for file in os.listdir(csv_dir) if file.endswith(\".csv\")]\n",
    "print(f\"🗂 Found {len(csv_files)} CSV files.\")\n",
    "\n",
    "# 🔹 3. Create a list to hold individual DataFrames\n",
    "dataframes = []\n",
    "\n",
    "# 🔹 4. Loop through files, read them, and append to the list\n",
    "for file in csv_files:\n",
    "    file_path = os.path.join(csv_dir, file)\n",
    "    \n",
    "    try:\n",
    "        df = pd.read_csv(file_path)\n",
    "        df['source_file'] = file  # Optional: Track which file each row came from\n",
    "        dataframes.append(df)\n",
    "        print(f\"✅ Loaded: {file}\")\n",
    "    except Exception as e:\n",
    "        print(f\"⚠️ Could not read {file}: {e}\")\n",
    "\n",
    "# 🔹 5. Concatenate all loaded DataFrames\n",
    "if dataframes:\n",
    "    merged_df = pd.concat(dataframes, ignore_index=True)\n",
    "    print(f\"✅ Successfully merged {len(dataframes)} DataFrames.\")\n",
    "else:\n",
    "    print(\"❌ No DataFrames loaded. Check file formats or folder path.\")\n",
    "\n",
    "# 🔹 6. (Optional) Preview and save the merged result\n",
    "merged_df.head()  # Preview first 5 rows\n",
    "\n",
    "# 🔹 7. Save to disk\n",
    "output_path = os.path.join(csv_dir, \"2021_merged_freight_data.csv\")\n",
    "merged_df.to_csv(output_path, index=False)\n",
    "print(f\"📁 Merged CSV saved to: {output_path}\")\n"
   ]
  },
  {
   "cell_type": "code",
   "execution_count": 5,
   "id": "ed64001a-95cb-4023-918b-3a4236dbcc85",
   "metadata": {},
   "outputs": [
    {
     "data": {
      "text/html": [
       "<div>\n",
       "<style scoped>\n",
       "    .dataframe tbody tr th:only-of-type {\n",
       "        vertical-align: middle;\n",
       "    }\n",
       "\n",
       "    .dataframe tbody tr th {\n",
       "        vertical-align: top;\n",
       "    }\n",
       "\n",
       "    .dataframe thead th {\n",
       "        text-align: right;\n",
       "    }\n",
       "</style>\n",
       "<table border=\"1\" class=\"dataframe\">\n",
       "  <thead>\n",
       "    <tr style=\"text-align: right;\">\n",
       "      <th></th>\n",
       "      <th>TRDTYPE</th>\n",
       "      <th>USASTATE</th>\n",
       "      <th>DEPE</th>\n",
       "      <th>DISAGMOT</th>\n",
       "      <th>MEXSTATE</th>\n",
       "      <th>CANPROV</th>\n",
       "      <th>COUNTRY</th>\n",
       "      <th>VALUE</th>\n",
       "      <th>SHIPWT</th>\n",
       "      <th>FREIGHT_CHARGES</th>\n",
       "      <th>DF</th>\n",
       "      <th>CONTCODE</th>\n",
       "      <th>MONTH</th>\n",
       "      <th>YEAR</th>\n",
       "      <th>source_file</th>\n",
       "      <th>COMMODITY2</th>\n",
       "    </tr>\n",
       "  </thead>\n",
       "  <tbody>\n",
       "    <tr>\n",
       "      <th>0</th>\n",
       "      <td>1</td>\n",
       "      <td>AK</td>\n",
       "      <td>18XX</td>\n",
       "      <td>1</td>\n",
       "      <td>XX</td>\n",
       "      <td>NaN</td>\n",
       "      <td>2010</td>\n",
       "      <td>5940</td>\n",
       "      <td>1136</td>\n",
       "      <td>0</td>\n",
       "      <td>1.0</td>\n",
       "      <td>1</td>\n",
       "      <td>1.0</td>\n",
       "      <td>2021</td>\n",
       "      <td>dot1_0121.csv</td>\n",
       "      <td>NaN</td>\n",
       "    </tr>\n",
       "    <tr>\n",
       "      <th>1</th>\n",
       "      <td>1</td>\n",
       "      <td>AK</td>\n",
       "      <td>20XX</td>\n",
       "      <td>3</td>\n",
       "      <td>NaN</td>\n",
       "      <td>XA</td>\n",
       "      <td>1220</td>\n",
       "      <td>7490</td>\n",
       "      <td>26</td>\n",
       "      <td>155</td>\n",
       "      <td>1.0</td>\n",
       "      <td>X</td>\n",
       "      <td>1.0</td>\n",
       "      <td>2021</td>\n",
       "      <td>dot1_0121.csv</td>\n",
       "      <td>NaN</td>\n",
       "    </tr>\n",
       "    <tr>\n",
       "      <th>2</th>\n",
       "      <td>1</td>\n",
       "      <td>AK</td>\n",
       "      <td>20XX</td>\n",
       "      <td>3</td>\n",
       "      <td>NaN</td>\n",
       "      <td>XA</td>\n",
       "      <td>1220</td>\n",
       "      <td>24885</td>\n",
       "      <td>13</td>\n",
       "      <td>78</td>\n",
       "      <td>2.0</td>\n",
       "      <td>X</td>\n",
       "      <td>1.0</td>\n",
       "      <td>2021</td>\n",
       "      <td>dot1_0121.csv</td>\n",
       "      <td>NaN</td>\n",
       "    </tr>\n",
       "    <tr>\n",
       "      <th>3</th>\n",
       "      <td>1</td>\n",
       "      <td>AK</td>\n",
       "      <td>20XX</td>\n",
       "      <td>3</td>\n",
       "      <td>NaN</td>\n",
       "      <td>XC</td>\n",
       "      <td>1220</td>\n",
       "      <td>16415</td>\n",
       "      <td>139</td>\n",
       "      <td>355</td>\n",
       "      <td>1.0</td>\n",
       "      <td>X</td>\n",
       "      <td>1.0</td>\n",
       "      <td>2021</td>\n",
       "      <td>dot1_0121.csv</td>\n",
       "      <td>NaN</td>\n",
       "    </tr>\n",
       "    <tr>\n",
       "      <th>4</th>\n",
       "      <td>1</td>\n",
       "      <td>AK</td>\n",
       "      <td>20XX</td>\n",
       "      <td>3</td>\n",
       "      <td>NaN</td>\n",
       "      <td>XC</td>\n",
       "      <td>1220</td>\n",
       "      <td>9025</td>\n",
       "      <td>5</td>\n",
       "      <td>35</td>\n",
       "      <td>2.0</td>\n",
       "      <td>X</td>\n",
       "      <td>1.0</td>\n",
       "      <td>2021</td>\n",
       "      <td>dot1_0121.csv</td>\n",
       "      <td>NaN</td>\n",
       "    </tr>\n",
       "  </tbody>\n",
       "</table>\n",
       "</div>"
      ],
      "text/plain": [
       "   TRDTYPE USASTATE  DEPE  DISAGMOT MEXSTATE CANPROV  COUNTRY  VALUE  SHIPWT  \\\n",
       "0        1       AK  18XX         1       XX     NaN     2010   5940    1136   \n",
       "1        1       AK  20XX         3      NaN      XA     1220   7490      26   \n",
       "2        1       AK  20XX         3      NaN      XA     1220  24885      13   \n",
       "3        1       AK  20XX         3      NaN      XC     1220  16415     139   \n",
       "4        1       AK  20XX         3      NaN      XC     1220   9025       5   \n",
       "\n",
       "   FREIGHT_CHARGES   DF CONTCODE  MONTH  YEAR    source_file  COMMODITY2  \n",
       "0                0  1.0        1    1.0  2021  dot1_0121.csv         NaN  \n",
       "1              155  1.0        X    1.0  2021  dot1_0121.csv         NaN  \n",
       "2               78  2.0        X    1.0  2021  dot1_0121.csv         NaN  \n",
       "3              355  1.0        X    1.0  2021  dot1_0121.csv         NaN  \n",
       "4               35  2.0        X    1.0  2021  dot1_0121.csv         NaN  "
      ]
     },
     "execution_count": 5,
     "metadata": {},
     "output_type": "execute_result"
    }
   ],
   "source": [
    "# Use the same path you saved to\n",
    "merged_path = r\"C:\\Users\\Dell\\OneDrive\\Desktop\\Project 1\\2021\\2021_merged_freight_data.csv\"\n",
    "\n",
    "# Load the CSV into a new DataFrame\n",
    "TFDA_2021 = pd.read_csv(merged_path)\n",
    "\n",
    "# Preview the first 5 rows\n",
    "TFDA_2021.head()\n"
   ]
  },
  {
   "cell_type": "markdown",
   "id": "75785cff-465d-44ee-9073-1c1bb2a8a965",
   "metadata": {},
   "source": [
    "### Understanding the dataset"
   ]
  },
  {
   "cell_type": "code",
   "execution_count": 8,
   "id": "2e8e6ba7-9725-477b-9525-371142a0f7c8",
   "metadata": {},
   "outputs": [
    {
     "name": "stdout",
     "output_type": "stream",
     "text": [
      "<class 'pandas.core.frame.DataFrame'>\n",
      "RangeIndex: 10982798 entries, 0 to 10982797\n",
      "Data columns (total 16 columns):\n",
      " #   Column           Dtype  \n",
      "---  ------           -----  \n",
      " 0   TRDTYPE          int64  \n",
      " 1   USASTATE         object \n",
      " 2   DEPE             object \n",
      " 3   DISAGMOT         int64  \n",
      " 4   MEXSTATE         object \n",
      " 5   CANPROV          object \n",
      " 6   COUNTRY          int64  \n",
      " 7   VALUE            int64  \n",
      " 8   SHIPWT           int64  \n",
      " 9   FREIGHT_CHARGES  int64  \n",
      " 10  DF               float64\n",
      " 11  CONTCODE         object \n",
      " 12  MONTH            float64\n",
      " 13  YEAR             int64  \n",
      " 14  source_file      object \n",
      " 15  COMMODITY2       float64\n",
      "dtypes: float64(3), int64(7), object(6)\n",
      "memory usage: 1.3+ GB\n"
     ]
    }
   ],
   "source": [
    "# Quick overview\n",
    "TFDA_2021.info()"
   ]
  },
  {
   "cell_type": "code",
   "execution_count": 10,
   "id": "bcd8dfbe-4e30-47ff-bc9d-d7c916a7c44c",
   "metadata": {},
   "outputs": [
    {
     "data": {
      "text/plain": [
       "(10982798, 16)"
      ]
     },
     "execution_count": 10,
     "metadata": {},
     "output_type": "execute_result"
    }
   ],
   "source": [
    "# checking the shape of the dataset\n",
    "TFDA_2021.shape"
   ]
  },
  {
   "cell_type": "code",
   "execution_count": 12,
   "id": "eb05992e-0701-4cdd-978c-90b0307a8055",
   "metadata": {},
   "outputs": [
    {
     "data": {
      "text/plain": [
       "Index(['TRDTYPE', 'USASTATE', 'DEPE', 'DISAGMOT', 'MEXSTATE', 'CANPROV',\n",
       "       'COUNTRY', 'VALUE', 'SHIPWT', 'FREIGHT_CHARGES', 'DF', 'CONTCODE',\n",
       "       'MONTH', 'YEAR', 'source_file', 'COMMODITY2'],\n",
       "      dtype='object')"
      ]
     },
     "execution_count": 12,
     "metadata": {},
     "output_type": "execute_result"
    }
   ],
   "source": [
    "# checking the various columns\n",
    "TFDA_2021.columns"
   ]
  },
  {
   "cell_type": "markdown",
   "id": "94607d1e-0ba3-4e56-a1b0-d2b3b982612a",
   "metadata": {},
   "source": [
    "### Data Cleaning "
   ]
  },
  {
   "cell_type": "code",
   "execution_count": 14,
   "id": "047d2ac9-0503-46d5-922f-aef4bfcc19bd",
   "metadata": {},
   "outputs": [
    {
     "data": {
      "text/plain": [
       "array([1, 2], dtype=int64)"
      ]
     },
     "execution_count": 14,
     "metadata": {},
     "output_type": "execute_result"
    }
   ],
   "source": [
    "TFDA_2021['TRDTYPE'].unique()"
   ]
  },
  {
   "cell_type": "code",
   "execution_count": 16,
   "id": "8f9bbab1-f30a-4c3d-83dd-2212176cf76d",
   "metadata": {},
   "outputs": [],
   "source": [
    "# Convert 'TRDTYPE' to categorical (optional but useful)\n",
    "TFDA_2021['TRDTYPE'] = TFDA_2021['TRDTYPE'].astype('category')"
   ]
  },
  {
   "cell_type": "code",
   "execution_count": 18,
   "id": "695c1c4a-1934-47c6-bb22-fade3b02cae6",
   "metadata": {},
   "outputs": [
    {
     "data": {
      "text/plain": [
       "TRDTYPE\n",
       "1    7283728\n",
       "2    3699070\n",
       "Name: count, dtype: int64"
      ]
     },
     "execution_count": 18,
     "metadata": {},
     "output_type": "execute_result"
    }
   ],
   "source": [
    "# See the distribution of values in TRDTYPE\n",
    "TFDA_2021['TRDTYPE'].value_counts(dropna=False)"
   ]
  },
  {
   "cell_type": "code",
   "execution_count": 20,
   "id": "96caa7b9-4b50-48f7-b563-6f2bcd1ad105",
   "metadata": {},
   "outputs": [],
   "source": [
    "# Fill categorical columns with placeholders\n",
    "TFDA_2021['USASTATE'] = TFDA_2021['USASTATE'].fillna('UNKNOWN')\n",
    "TFDA_2021['DEPE'] = TFDA_2021['DEPE'].fillna('0000')\n",
    "TFDA_2021['MEXSTATE'] = TFDA_2021['MEXSTATE'].fillna('OT')         # 'OT' = State Unknown\n",
    "TFDA_2021['CANPROV'] = TFDA_2021['CANPROV'].fillna('OT')           # 'OT' = Province Unknown\n"
   ]
  },
  {
   "cell_type": "code",
   "execution_count": 52,
   "id": "90ed563d-0748-4ce8-a30d-2e46bb6325f8",
   "metadata": {},
   "outputs": [
    {
     "name": "stdout",
     "output_type": "stream",
     "text": [
      "TRDTYPE\n",
      "1    5601122\n",
      "2    3620719\n",
      "Name: count, dtype: int64\n"
     ]
    }
   ],
   "source": [
    "# Isolate all TRDTYPE == 2 rows (protect them)\n",
    "trdtype_2_rows = TFDA_2021[TFDA_2021['TRDTYPE'] == 2]\n",
    "\n",
    "# Clean the rest of the dataset (excluding TRDTYPE == 2)\n",
    "other_rows = TFDA_2021[TFDA_2021['TRDTYPE'] != 2]\n",
    "cleaned_other_rows = other_rows.dropna(subset=['DEPE', 'COMMODITY2', 'DF'])\n",
    "\n",
    "# Combine cleaned rows and protected TRDTYPE==2 rows\n",
    "TFDA_2021_cleaned = pd.concat([cleaned_other_rows, trdtype_2_rows], ignore_index=True)\n",
    "\n",
    "# Reset index\n",
    "TFDA_2021_cleaned.reset_index(drop=True, inplace=True)\n",
    "\n",
    "# Confirm TRDTYPE distribution\n",
    "print(TFDA_2021_cleaned['TRDTYPE'].value_counts(dropna=False))\n",
    "\n",
    "# reassign to main variable\n",
    "TFDA_2021 = TFDA_2021_cleaned"
   ]
  },
  {
   "cell_type": "code",
   "execution_count": 30,
   "id": "1739f469-757a-4def-9ed7-7ff8966fdb93",
   "metadata": {},
   "outputs": [],
   "source": [
    "# Fill numeric columns with zeros or neutral values\n",
    "TFDA_2021['DF'] = TFDA_2021['DF'].fillna(0).astype(int)\n",
    "TFDA_2021['COMMODITY2'] = TFDA_2021['COMMODITY2'].fillna(99).astype(int)"
   ]
  },
  {
   "cell_type": "code",
   "execution_count": 34,
   "id": "986114df-e556-4746-a027-af9393524603",
   "metadata": {},
   "outputs": [
    {
     "name": "stdout",
     "output_type": "stream",
     "text": [
      "<class 'pandas.core.frame.DataFrame'>\n",
      "RangeIndex: 9428572 entries, 0 to 9428571\n",
      "Data columns (total 16 columns):\n",
      " #   Column           Dtype   \n",
      "---  ------           -----   \n",
      " 0   TRDTYPE          category\n",
      " 1   USASTATE         object  \n",
      " 2   DEPE             object  \n",
      " 3   DISAGMOT         int64   \n",
      " 4   MEXSTATE         object  \n",
      " 5   CANPROV          object  \n",
      " 6   COUNTRY          int64   \n",
      " 7   VALUE            int64   \n",
      " 8   SHIPWT           int64   \n",
      " 9   FREIGHT_CHARGES  int64   \n",
      " 10  DF               int32   \n",
      " 11  CONTCODE         object  \n",
      " 12  MONTH            float64 \n",
      " 13  YEAR             int64   \n",
      " 14  source_file      object  \n",
      " 15  COMMODITY2       int32   \n",
      "dtypes: category(1), float64(1), int32(2), int64(6), object(6)\n",
      "memory usage: 1016.1+ MB\n"
     ]
    }
   ],
   "source": [
    "TFDA_2021.info()"
   ]
  },
  {
   "cell_type": "code",
   "execution_count": 36,
   "id": "6614d214-0311-4b06-be0e-274bafa0381f",
   "metadata": {},
   "outputs": [
    {
     "data": {
      "text/plain": [
       "0"
      ]
     },
     "execution_count": 36,
     "metadata": {},
     "output_type": "execute_result"
    }
   ],
   "source": [
    "TFDA_2021.duplicated().sum()"
   ]
  },
  {
   "cell_type": "code",
   "execution_count": 38,
   "id": "e09f27cc-c39e-4d68-aa3d-b06a1311a770",
   "metadata": {},
   "outputs": [
    {
     "data": {
      "text/plain": [
       "TRDTYPE                 0\n",
       "USASTATE                0\n",
       "DEPE                    0\n",
       "DISAGMOT                0\n",
       "MEXSTATE                0\n",
       "CANPROV                 0\n",
       "COUNTRY                 0\n",
       "VALUE                   0\n",
       "SHIPWT                  0\n",
       "FREIGHT_CHARGES         0\n",
       "DF                      0\n",
       "CONTCODE                0\n",
       "MONTH              206731\n",
       "YEAR                    0\n",
       "source_file             0\n",
       "COMMODITY2              0\n",
       "dtype: int64"
      ]
     },
     "execution_count": 38,
     "metadata": {},
     "output_type": "execute_result"
    }
   ],
   "source": [
    "# checking again for NaNs to be sure they have been worked on\n",
    "TFDA_2021.isnull().sum()"
   ]
  },
  {
   "cell_type": "code",
   "execution_count": 40,
   "id": "123e3bf8-87bf-45cc-b7af-2c7a96721616",
   "metadata": {},
   "outputs": [],
   "source": [
    "# For example: keep rows where DEPE, COMMODITY2, and DF are not null\n",
    "TFDA_2021.dropna(subset=['DEPE', 'COMMODITY2', 'DF', 'MONTH'], inplace=True)"
   ]
  },
  {
   "cell_type": "code",
   "execution_count": 44,
   "id": "964f65cc-9127-4fe0-b58c-e45df4898df4",
   "metadata": {},
   "outputs": [
    {
     "data": {
      "text/html": [
       "<div>\n",
       "<style scoped>\n",
       "    .dataframe tbody tr th:only-of-type {\n",
       "        vertical-align: middle;\n",
       "    }\n",
       "\n",
       "    .dataframe tbody tr th {\n",
       "        vertical-align: top;\n",
       "    }\n",
       "\n",
       "    .dataframe thead th {\n",
       "        text-align: right;\n",
       "    }\n",
       "</style>\n",
       "<table border=\"1\" class=\"dataframe\">\n",
       "  <thead>\n",
       "    <tr style=\"text-align: right;\">\n",
       "      <th></th>\n",
       "      <th>DISAGMOT</th>\n",
       "      <th>COUNTRY</th>\n",
       "      <th>VALUE</th>\n",
       "      <th>SHIPWT</th>\n",
       "      <th>FREIGHT_CHARGES</th>\n",
       "      <th>DF</th>\n",
       "      <th>MONTH</th>\n",
       "      <th>YEAR</th>\n",
       "      <th>COMMODITY2</th>\n",
       "    </tr>\n",
       "  </thead>\n",
       "  <tbody>\n",
       "    <tr>\n",
       "      <th>count</th>\n",
       "      <td>9.221841e+06</td>\n",
       "      <td>9.221841e+06</td>\n",
       "      <td>9.221841e+06</td>\n",
       "      <td>9.221841e+06</td>\n",
       "      <td>9.221841e+06</td>\n",
       "      <td>9.221841e+06</td>\n",
       "      <td>9.221841e+06</td>\n",
       "      <td>9221841.0</td>\n",
       "      <td>9.221841e+06</td>\n",
       "    </tr>\n",
       "    <tr>\n",
       "      <th>mean</th>\n",
       "      <td>4.735469e+00</td>\n",
       "      <td>1.522225e+03</td>\n",
       "      <td>2.686561e+06</td>\n",
       "      <td>1.334779e+06</td>\n",
       "      <td>3.741601e+04</td>\n",
       "      <td>8.088051e-01</td>\n",
       "      <td>4.954855e+00</td>\n",
       "      <td>2021.0</td>\n",
       "      <td>6.079244e+01</td>\n",
       "    </tr>\n",
       "    <tr>\n",
       "      <th>std</th>\n",
       "      <td>1.216247e+00</td>\n",
       "      <td>3.839503e+02</td>\n",
       "      <td>3.243634e+07</td>\n",
       "      <td>4.033402e+07</td>\n",
       "      <td>9.410619e+05</td>\n",
       "      <td>7.466581e-01</td>\n",
       "      <td>3.054144e+00</td>\n",
       "      <td>0.0</td>\n",
       "      <td>2.933959e+01</td>\n",
       "    </tr>\n",
       "    <tr>\n",
       "      <th>min</th>\n",
       "      <td>1.000000e+00</td>\n",
       "      <td>1.220000e+03</td>\n",
       "      <td>0.000000e+00</td>\n",
       "      <td>0.000000e+00</td>\n",
       "      <td>0.000000e+00</td>\n",
       "      <td>0.000000e+00</td>\n",
       "      <td>1.000000e+00</td>\n",
       "      <td>2021.0</td>\n",
       "      <td>1.000000e+00</td>\n",
       "    </tr>\n",
       "    <tr>\n",
       "      <th>25%</th>\n",
       "      <td>5.000000e+00</td>\n",
       "      <td>1.220000e+03</td>\n",
       "      <td>1.351600e+04</td>\n",
       "      <td>0.000000e+00</td>\n",
       "      <td>0.000000e+00</td>\n",
       "      <td>0.000000e+00</td>\n",
       "      <td>2.000000e+00</td>\n",
       "      <td>2021.0</td>\n",
       "      <td>3.500000e+01</td>\n",
       "    </tr>\n",
       "    <tr>\n",
       "      <th>50%</th>\n",
       "      <td>5.000000e+00</td>\n",
       "      <td>1.220000e+03</td>\n",
       "      <td>6.689000e+04</td>\n",
       "      <td>0.000000e+00</td>\n",
       "      <td>2.630000e+02</td>\n",
       "      <td>1.000000e+00</td>\n",
       "      <td>4.000000e+00</td>\n",
       "      <td>2021.0</td>\n",
       "      <td>6.800000e+01</td>\n",
       "    </tr>\n",
       "    <tr>\n",
       "      <th>75%</th>\n",
       "      <td>5.000000e+00</td>\n",
       "      <td>2.010000e+03</td>\n",
       "      <td>3.992240e+05</td>\n",
       "      <td>6.252000e+03</td>\n",
       "      <td>2.900000e+03</td>\n",
       "      <td>1.000000e+00</td>\n",
       "      <td>7.000000e+00</td>\n",
       "      <td>2021.0</td>\n",
       "      <td>8.700000e+01</td>\n",
       "    </tr>\n",
       "    <tr>\n",
       "      <th>max</th>\n",
       "      <td>9.000000e+00</td>\n",
       "      <td>2.010000e+03</td>\n",
       "      <td>3.921320e+09</td>\n",
       "      <td>8.450848e+09</td>\n",
       "      <td>2.093247e+08</td>\n",
       "      <td>2.000000e+00</td>\n",
       "      <td>1.200000e+01</td>\n",
       "      <td>2021.0</td>\n",
       "      <td>9.900000e+01</td>\n",
       "    </tr>\n",
       "  </tbody>\n",
       "</table>\n",
       "</div>"
      ],
      "text/plain": [
       "           DISAGMOT       COUNTRY         VALUE        SHIPWT  \\\n",
       "count  9.221841e+06  9.221841e+06  9.221841e+06  9.221841e+06   \n",
       "mean   4.735469e+00  1.522225e+03  2.686561e+06  1.334779e+06   \n",
       "std    1.216247e+00  3.839503e+02  3.243634e+07  4.033402e+07   \n",
       "min    1.000000e+00  1.220000e+03  0.000000e+00  0.000000e+00   \n",
       "25%    5.000000e+00  1.220000e+03  1.351600e+04  0.000000e+00   \n",
       "50%    5.000000e+00  1.220000e+03  6.689000e+04  0.000000e+00   \n",
       "75%    5.000000e+00  2.010000e+03  3.992240e+05  6.252000e+03   \n",
       "max    9.000000e+00  2.010000e+03  3.921320e+09  8.450848e+09   \n",
       "\n",
       "       FREIGHT_CHARGES            DF         MONTH       YEAR    COMMODITY2  \n",
       "count     9.221841e+06  9.221841e+06  9.221841e+06  9221841.0  9.221841e+06  \n",
       "mean      3.741601e+04  8.088051e-01  4.954855e+00     2021.0  6.079244e+01  \n",
       "std       9.410619e+05  7.466581e-01  3.054144e+00        0.0  2.933959e+01  \n",
       "min       0.000000e+00  0.000000e+00  1.000000e+00     2021.0  1.000000e+00  \n",
       "25%       0.000000e+00  0.000000e+00  2.000000e+00     2021.0  3.500000e+01  \n",
       "50%       2.630000e+02  1.000000e+00  4.000000e+00     2021.0  6.800000e+01  \n",
       "75%       2.900000e+03  1.000000e+00  7.000000e+00     2021.0  8.700000e+01  \n",
       "max       2.093247e+08  2.000000e+00  1.200000e+01     2021.0  9.900000e+01  "
      ]
     },
     "execution_count": 44,
     "metadata": {},
     "output_type": "execute_result"
    }
   ],
   "source": [
    "# Summary statistics\n",
    "TFDA_2021.describe()"
   ]
  },
  {
   "cell_type": "code",
   "execution_count": 46,
   "id": "5b2421b4-70b7-4a16-98d2-95d90aa4d505",
   "metadata": {},
   "outputs": [
    {
     "data": {
      "text/plain": [
       "TRDTYPE            category\n",
       "USASTATE             object\n",
       "DEPE                 object\n",
       "DISAGMOT              int64\n",
       "MEXSTATE             object\n",
       "CANPROV              object\n",
       "COUNTRY               int64\n",
       "VALUE                 int64\n",
       "SHIPWT                int64\n",
       "FREIGHT_CHARGES       int64\n",
       "DF                    int32\n",
       "CONTCODE             object\n",
       "MONTH               float64\n",
       "YEAR                  int64\n",
       "source_file          object\n",
       "COMMODITY2            int32\n",
       "dtype: object"
      ]
     },
     "execution_count": 46,
     "metadata": {},
     "output_type": "execute_result"
    }
   ],
   "source": [
    "TFDA_2021.dtypes"
   ]
  },
  {
   "cell_type": "code",
   "execution_count": 48,
   "id": "de7bc180-7aa4-4e2e-9eef-58aebf3d235a",
   "metadata": {},
   "outputs": [
    {
     "data": {
      "text/plain": [
       "(9221841, 16)"
      ]
     },
     "execution_count": 48,
     "metadata": {},
     "output_type": "execute_result"
    }
   ],
   "source": [
    "TFDA_2021.shape"
   ]
  },
  {
   "cell_type": "code",
   "execution_count": 50,
   "id": "eae253d3-21ea-4d05-9b4e-ec0c494f700b",
   "metadata": {},
   "outputs": [],
   "source": [
    "TFDA_2021.to_csv(\"TFDA_2021_cleaned.csv\", index=False, encoding='utf-8-sig')"
   ]
  },
  {
   "cell_type": "code",
   "execution_count": null,
   "id": "28a27a2e-8297-4a3d-ae8a-912a4a322873",
   "metadata": {},
   "outputs": [],
   "source": []
  }
 ],
 "metadata": {
  "kernelspec": {
   "display_name": "Python [conda env:base] *",
   "language": "python",
   "name": "conda-base-py"
  },
  "language_info": {
   "codemirror_mode": {
    "name": "ipython",
    "version": 3
   },
   "file_extension": ".py",
   "mimetype": "text/x-python",
   "name": "python",
   "nbconvert_exporter": "python",
   "pygments_lexer": "ipython3",
   "version": "3.12.7"
  }
 },
 "nbformat": 4,
 "nbformat_minor": 5
}
